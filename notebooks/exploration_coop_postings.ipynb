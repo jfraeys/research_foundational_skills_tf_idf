{
 "cells": [
  {
   "cell_type": "code",
   "execution_count": 1,
   "metadata": {
    "pycharm": {
     "name": "#%%\n"
    }
   },
   "outputs": [],
   "source": [
    "import os\n",
    "\n",
    "import matplotlib.pyplot as plt\n",
    "from plotly.subplots import make_subplots\n",
    "import plotly.graph_objects as go\n",
    "import plotly.io as pio\n",
    "import pandas as pd\n",
    "import seaborn as sns\n",
    "\n",
    "# Is there a better way to make sure projet dir is correct?\n",
    "if not set([\"notebooks\", \"src\"]).issubset(os.listdir()):\n",
    "    os.chdir(os.path.dirname(os.getcwd()))"
   ]
  },
  {
   "cell_type": "code",
   "execution_count": 2,
   "metadata": {},
   "outputs": [],
   "source": [
    "all_sheets = pd.read_excel(\n",
    "    \"data/raw/Coop_June7.xlsx\",\n",
    "    skiprows=0,\n",
    "    parse_dates=[\"Date Goes Live\"],\n",
    "    # date_format=\"%m/%d/%Y %I:%M %p\",\n",
    "    header=1,\n",
    "    sheet_name=None,\n",
    ")\n",
    "\n",
    "df_coop = pd.DataFrame()\n",
    "for _, df in all_sheets.items():\n",
    "    df_coop = pd.concat([df_coop, df])\n",
    "\n",
    "del all_sheets"
   ]
  },
  {
   "cell_type": "code",
   "execution_count": 6,
   "metadata": {},
   "outputs": [
    {
     "data": {
      "text/plain": [
       "Index(['Job ID', 'Organization Name', 'Position', 'Date Goes Live',\n",
       "       'Job Description', 'Program'],\n",
       "      dtype='object')"
      ]
     },
     "execution_count": 6,
     "metadata": {},
     "output_type": "execute_result"
    }
   ],
   "source": [
    "df_coop.columns"
   ]
  },
  {
   "cell_type": "code",
   "execution_count": 7,
   "metadata": {},
   "outputs": [
    {
     "data": {
      "text/plain": [
       "(350802, 6)"
      ]
     },
     "execution_count": 7,
     "metadata": {},
     "output_type": "execute_result"
    }
   ],
   "source": [
    "df_coop.shape"
   ]
  },
  {
   "cell_type": "code",
   "execution_count": 8,
   "metadata": {
    "pycharm": {
     "is_executing": true,
     "name": "#%%\n"
    }
   },
   "outputs": [],
   "source": [
    "df_coop = df_coop.rename(\n",
    "    columns={\n",
    "        \"Job ID\": \"job_id\",\n",
    "        \"Organization Name\": \"job_organization\",\n",
    "        \"Position\": \"job_position\",\n",
    "        \"Date Goes Live\": \"date_goes_live\",\n",
    "        \"Job Description\": \"job_description\",\n",
    "        \"Program\": \"program_name\",\n",
    "    }\n",
    ")"
   ]
  },
  {
   "cell_type": "code",
   "execution_count": 9,
   "metadata": {},
   "outputs": [],
   "source": [
    "df_coop.drop(\"job_organization\", axis=1, inplace=True)"
   ]
  },
  {
   "cell_type": "code",
   "execution_count": 10,
   "metadata": {},
   "outputs": [],
   "source": [
    "df_coop = df_coop.convert_dtypes(infer_objects=True)"
   ]
  },
  {
   "cell_type": "code",
   "execution_count": 11,
   "metadata": {},
   "outputs": [
    {
     "data": {
      "text/plain": [
       "job_id                      Int64\n",
       "job_position               string\n",
       "date_goes_live     datetime64[ns]\n",
       "job_description            string\n",
       "program_name               string\n",
       "dtype: object"
      ]
     },
     "execution_count": 11,
     "metadata": {},
     "output_type": "execute_result"
    }
   ],
   "source": [
    "df_coop.dtypes"
   ]
  },
  {
   "cell_type": "code",
   "execution_count": 12,
   "metadata": {},
   "outputs": [],
   "source": [
    "df_coop = df_coop.sort_values([\"job_id\"], ascending=True)"
   ]
  },
  {
   "cell_type": "code",
   "execution_count": 13,
   "metadata": {},
   "outputs": [
    {
     "data": {
      "text/plain": [
       "Timestamp('2012-08-15 11:24:00')"
      ]
     },
     "execution_count": 13,
     "metadata": {},
     "output_type": "execute_result"
    }
   ],
   "source": [
    "df_coop.date_goes_live.sort_values().min()"
   ]
  },
  {
   "cell_type": "code",
   "execution_count": 14,
   "metadata": {},
   "outputs": [
    {
     "data": {
      "text/plain": [
       "Timestamp('2023-06-07 23:59:00')"
      ]
     },
     "execution_count": 14,
     "metadata": {},
     "output_type": "execute_result"
    }
   ],
   "source": [
    "df_coop.date_goes_live.sort_values().max()"
   ]
  },
  {
   "cell_type": "code",
   "execution_count": 15,
   "metadata": {},
   "outputs": [
    {
     "data": {
      "text/plain": [
       "350779"
      ]
     },
     "execution_count": 15,
     "metadata": {},
     "output_type": "execute_result"
    }
   ],
   "source": [
    "df_coop[\"job_position\"].str.contains(\"campus bulletin\", case=False).count()"
   ]
  },
  {
   "cell_type": "code",
   "execution_count": 16,
   "metadata": {},
   "outputs": [
    {
     "data": {
      "text/plain": [
       "(350802, 5)"
      ]
     },
     "execution_count": 16,
     "metadata": {},
     "output_type": "execute_result"
    }
   ],
   "source": [
    "df_coop.shape"
   ]
  },
  {
   "cell_type": "code",
   "execution_count": 17,
   "metadata": {},
   "outputs": [],
   "source": [
    "df_coop = df_coop[~df_coop[\"job_position\"].str.contains(\"campus bulletin\", case=False)]"
   ]
  },
  {
   "cell_type": "code",
   "execution_count": 18,
   "metadata": {},
   "outputs": [
    {
     "data": {
      "text/plain": [
       "(332649, 5)"
      ]
     },
     "execution_count": 18,
     "metadata": {},
     "output_type": "execute_result"
    }
   ],
   "source": [
    "df_coop.shape"
   ]
  },
  {
   "cell_type": "code",
   "execution_count": 19,
   "metadata": {},
   "outputs": [
    {
     "data": {
      "text/plain": [
       "job_id               0\n",
       "job_position         0\n",
       "date_goes_live       0\n",
       "job_description      9\n",
       "program_name       204\n",
       "dtype: int64"
      ]
     },
     "execution_count": 19,
     "metadata": {},
     "output_type": "execute_result"
    }
   ],
   "source": [
    "df_coop.isnull().sum()"
   ]
  },
  {
   "cell_type": "code",
   "execution_count": 20,
   "metadata": {},
   "outputs": [
    {
     "data": {
      "text/plain": [
       "72"
      ]
     },
     "execution_count": 20,
     "metadata": {},
     "output_type": "execute_result"
    }
   ],
   "source": [
    "df_coop[\"program_name\"].nunique()"
   ]
  },
  {
   "cell_type": "code",
   "execution_count": 21,
   "metadata": {},
   "outputs": [],
   "source": [
    "program_keywords = [\"engineering\", \"computer\"]\n",
    "df_coop = df_coop[\n",
    "    df_coop[\"program_name\"].str.contains(\n",
    "        r\"{}\".format(\"|\".join(program_keywords)), case=False\n",
    "    )\n",
    "]"
   ]
  },
  {
   "cell_type": "code",
   "execution_count": 22,
   "metadata": {},
   "outputs": [],
   "source": [
    "pattern = r\"([A-Za-z& ]*)$\"\n",
    "df_coop[\"program_name\"] = df_coop[\"program_name\"].str.extract(pattern)"
   ]
  },
  {
   "cell_type": "code",
   "execution_count": 23,
   "metadata": {},
   "outputs": [],
   "source": [
    "df_coop = df_coop.dropna(how=\"any\", axis=0)"
   ]
  },
  {
   "cell_type": "code",
   "execution_count": 24,
   "metadata": {},
   "outputs": [
    {
     "data": {
      "text/plain": [
       "(75582, 5)"
      ]
     },
     "execution_count": 24,
     "metadata": {},
     "output_type": "execute_result"
    }
   ],
   "source": [
    "df_coop.shape"
   ]
  },
  {
   "cell_type": "code",
   "execution_count": 25,
   "metadata": {
    "tags": []
   },
   "outputs": [],
   "source": [
    "df_coop=df_coop[~df_coop['job_position'].str.contains(r'\\btest\\b')]"
   ]
  },
  {
   "cell_type": "code",
   "execution_count": 26,
   "metadata": {},
   "outputs": [
    {
     "data": {
      "text/plain": [
       "(75519, 5)"
      ]
     },
     "execution_count": 26,
     "metadata": {},
     "output_type": "execute_result"
    }
   ],
   "source": [
    "df_coop.shape"
   ]
  },
  {
   "cell_type": "code",
   "execution_count": 27,
   "metadata": {},
   "outputs": [],
   "source": [
    "df_coop_program_listed = df_coop.copy()\n",
    "df_coop_program_listed = (\n",
    "    df_coop_program_listed.groupby(\n",
    "        [\"job_id\", \"job_position\", \"date_goes_live\", \"job_description\"]\n",
    "    )[\"program_name\"]\n",
    "    .agg(list)\n",
    "    .reset_index()\n",
    ")"
   ]
  },
  {
   "cell_type": "code",
   "execution_count": 28,
   "metadata": {},
   "outputs": [
    {
     "data": {
      "text/plain": [
       "0    [Biological Engineering, Biomedical Engineerin...\n",
       "1    [Biological Engineering, Biomedical Engineerin...\n",
       "2     [Biological Engineering, Biomedical Engineering]\n",
       "3    [Water Resources Engineering, Environmental En...\n",
       "4    [Biological Engineering, Environmental Enginee...\n",
       "Name: program_name, dtype: object"
      ]
     },
     "execution_count": 28,
     "metadata": {},
     "output_type": "execute_result"
    }
   ],
   "source": [
    "df_coop_program_listed[\"program_name\"].head()"
   ]
  },
  {
   "cell_type": "code",
   "execution_count": 29,
   "metadata": {},
   "outputs": [],
   "source": [
    "df_coop.to_csv(\"data/interim/coop_postings_program.csv\", index=False)\n",
    "df_coop_program_listed.to_csv(\n",
    "    \"data/interim/coop_postings_programs_joined.csv\", index=False\n",
    ")"
   ]
  },
  {
   "cell_type": "markdown",
   "metadata": {},
   "source": [
    "# Exploration of the job postings"
   ]
  },
  {
   "cell_type": "code",
   "execution_count": 30,
   "metadata": {},
   "outputs": [],
   "source": [
    "df_explo = df_coop_program_listed.copy()"
   ]
  },
  {
   "cell_type": "code",
   "execution_count": 31,
   "metadata": {},
   "outputs": [],
   "source": [
    "df_year_month = pd.DataFrame()\n",
    "df_year_month[\"year_month\"] = df_explo[\"date_goes_live\"].dt.strftime(\"%Y-%m\")\n",
    "df_year_month = (\n",
    "    df_year_month.groupby(df_year_month[\"year_month\"]).size().reset_index(\n",
    "        name=\"count\",\n",
    "    )\n",
    ")"
   ]
  },
  {
   "cell_type": "code",
   "execution_count": 32,
   "metadata": {},
   "outputs": [
    {
     "data": {
      "text/html": [
       "<div>\n",
       "<style scoped>\n",
       "    .dataframe tbody tr th:only-of-type {\n",
       "        vertical-align: middle;\n",
       "    }\n",
       "\n",
       "    .dataframe tbody tr th {\n",
       "        vertical-align: top;\n",
       "    }\n",
       "\n",
       "    .dataframe thead th {\n",
       "        text-align: right;\n",
       "    }\n",
       "</style>\n",
       "<table border=\"1\" class=\"dataframe\">\n",
       "  <thead>\n",
       "    <tr style=\"text-align: right;\">\n",
       "      <th></th>\n",
       "      <th>year_month</th>\n",
       "      <th>count</th>\n",
       "    </tr>\n",
       "  </thead>\n",
       "  <tbody>\n",
       "    <tr>\n",
       "      <th>0</th>\n",
       "      <td>2012-08</td>\n",
       "      <td>24</td>\n",
       "    </tr>\n",
       "    <tr>\n",
       "      <th>1</th>\n",
       "      <td>2012-09</td>\n",
       "      <td>210</td>\n",
       "    </tr>\n",
       "    <tr>\n",
       "      <th>2</th>\n",
       "      <td>2012-10</td>\n",
       "      <td>126</td>\n",
       "    </tr>\n",
       "    <tr>\n",
       "      <th>3</th>\n",
       "      <td>2012-11</td>\n",
       "      <td>40</td>\n",
       "    </tr>\n",
       "    <tr>\n",
       "      <th>4</th>\n",
       "      <td>2012-12</td>\n",
       "      <td>24</td>\n",
       "    </tr>\n",
       "    <tr>\n",
       "      <th>...</th>\n",
       "      <td>...</td>\n",
       "      <td>...</td>\n",
       "    </tr>\n",
       "    <tr>\n",
       "      <th>126</th>\n",
       "      <td>2023-02</td>\n",
       "      <td>186</td>\n",
       "    </tr>\n",
       "    <tr>\n",
       "      <th>127</th>\n",
       "      <td>2023-03</td>\n",
       "      <td>143</td>\n",
       "    </tr>\n",
       "    <tr>\n",
       "      <th>128</th>\n",
       "      <td>2023-04</td>\n",
       "      <td>41</td>\n",
       "    </tr>\n",
       "    <tr>\n",
       "      <th>129</th>\n",
       "      <td>2023-05</td>\n",
       "      <td>231</td>\n",
       "    </tr>\n",
       "    <tr>\n",
       "      <th>130</th>\n",
       "      <td>2023-06</td>\n",
       "      <td>38</td>\n",
       "    </tr>\n",
       "  </tbody>\n",
       "</table>\n",
       "<p>131 rows × 2 columns</p>\n",
       "</div>"
      ],
      "text/plain": [
       "    year_month  count\n",
       "0      2012-08     24\n",
       "1      2012-09    210\n",
       "2      2012-10    126\n",
       "3      2012-11     40\n",
       "4      2012-12     24\n",
       "..         ...    ...\n",
       "126    2023-02    186\n",
       "127    2023-03    143\n",
       "128    2023-04     41\n",
       "129    2023-05    231\n",
       "130    2023-06     38\n",
       "\n",
       "[131 rows x 2 columns]"
      ]
     },
     "execution_count": 32,
     "metadata": {},
     "output_type": "execute_result"
    }
   ],
   "source": [
    "df_year_month"
   ]
  },
  {
   "cell_type": "code",
   "execution_count": 33,
   "metadata": {},
   "outputs": [
    {
     "data": {
      "image/png": "[encoded data removed]",
      "text/plain": [
       "<Figure size 4000x800 with 1 Axes>"
      ]
     },
     "metadata": {},
     "output_type": "display_data"
    }
   ],
   "source": [
    "# Adjust the figure size directly\n",
    "plt.figure(figsize=(40, 8))  # Adjust width and height as needed\n",
    "\n",
    "# Use sns.barplot instead of sns.histplot for a bar chart\n",
    "ax = sns.barplot(x=\"year_month\", y=\"count\", data=df_year_month)\n",
    "\n",
    "# Set labels and adjust tick labels\n",
    "ax.set(\n",
    "    xlabel=\"Months\", ylabel=\"Number of job postings\"\n",
    ")\n",
    "\n",
    "# Set title\n",
    "ax.set_title(\"Monthly Job Postings Over Time\", fontsize=16)\n",
    "\n",
    "# Set tick positions and labels\n",
    "ax.set_xticks(ax.get_xticks())\n",
    "ax.set_xticklabels(ax.get_xticklabels(), rotation=45, ha=\"right\")\n",
    "\n",
    "# Save the figure and display the plot\n",
    "ax.figure.savefig(\n",
    "    \"reports/figures/coop_monthly_postings.png\", bbox_inches=\"tight\", dpi=300\n",
    ")\n",
    "\n",
    "plt.show()"
   ]
  },
  {
   "cell_type": "code",
   "execution_count": 34,
   "metadata": {},
   "outputs": [
    {
     "data": {
      "image/png": "[encoded data removed]",
      "text/plain": [
       "<Figure size 4000x400 with 1 Axes>"
      ]
     },
     "metadata": {},
     "output_type": "display_data"
    }
   ],
   "source": [
    "# Ensure df_explo[\"year_month\"] is in the correct format (e.g., datetime)\n",
    "df_explo[\"year_month\"] = df_explo[\"date_goes_live\"].dt.to_period(\"M\")\n",
    "\n",
    "# Adjust the figure size directly\n",
    "plt.figure(figsize=(40, 4))\n",
    "\n",
    "# Use sns.countplot for counting occurrences of each year_month\n",
    "ax = sns.countplot(x=\"year_month\", data=df_explo)\n",
    "\n",
    "# Set title\n",
    "ax.set_title(\"Yearly Number of Job Postings\", fontsize=16)\n",
    "\n",
    "# Set labels, tick positions, and adjust tick labels\n",
    "ax.set(xlabel=\"Months\", ylabel=\"Number of job postings\")\n",
    "ax.set_xticks(ax.get_xticks())\n",
    "ax.set_xticklabels(ax.get_xticklabels(), rotation=45, ha=\"right\")\n",
    "\n",
    "# Add count labels on top of the bars\n",
    "ax.bar_label(ax.containers[0])\n",
    "\n",
    "# Save the figure and display the plot\n",
    "ax.figure.savefig(\n",
    "    \"reports/figures/coop_yearly_postings.png\", bbox_inches=\"tight\", dpi=300\n",
    ")\n",
    "\n",
    "plt.show()"
   ]
  },
  {
   "cell_type": "code",
   "execution_count": 35,
   "metadata": {},
   "outputs": [
    {
     "data": {
      "image/png": "[encoded data removed]",
      "text/plain": [
       "<Figure size 1000x400 with 1 Axes>"
      ]
     },
     "metadata": {},
     "output_type": "display_data"
    }
   ],
   "source": [
    "# Ensure df_explo[\"date_goes_live\"] is in the correct format (e.g., datetime)\n",
    "df_explo[\"date_goes_live\"] = pd.to_datetime(df_explo[\"date_goes_live\"])\n",
    "\n",
    "# Define the order of months since 2012\n",
    "start_date = \"2012-01-01\"\n",
    "end_date = \"2022-12-01\"\n",
    "months_in_order = pd.date_range(start=start_date, end=end_date, freq=\"MS\")\n",
    "months_in_order = months_in_order.map(lambda x: x.strftime(\"%B\"))\n",
    "\n",
    "# Create a DataFrame with months as a categorical variable and\n",
    "# count job postings per month\n",
    "df_month_sum = df_explo.groupby(\n",
    "    df_explo[\"date_goes_live\"].dt.to_period(\"M\")\n",
    ").size().reset_index(name=\"count\")\n",
    "df_month_sum[\"month\"] = df_month_sum[\"date_goes_live\"].dt.strftime(\"%B\")\n",
    "\n",
    "# Adjust the figure size directly\n",
    "plt.figure(figsize=(10, 4))\n",
    "\n",
    "# Use sns.barplot to plot the sum of job postings per month\n",
    "ax = sns.barplot(x=\"month\", y=\"count\", data=df_month_sum)\n",
    "\n",
    "# Set title\n",
    "ax.set_title(\"Monthly Job Postings Since 2012\", fontsize=16)\n",
    "\n",
    "# Set labels, tick positions, and adjust tick labels\n",
    "ax.set(xlabel=\"Months\", ylabel=\"Number of job postings\")\n",
    "ax.set_xticks(ax.get_xticks())\n",
    "ax.set_xticklabels(ax.get_xticklabels(), rotation=45, ha=\"right\")\n",
    "\n",
    "# Add count labels on top of the bars\n",
    "ax.bar_label(ax.containers[0])\n",
    "\n",
    "# Save the figure and display the plot\n",
    "plt.savefig(\n",
    "    \"reports/figures/coop_joined_monthly_postings_since_2012.png\",\n",
    "    bbox_inches=\"tight\",\n",
    "    dpi=300,\n",
    ")\n",
    "plt.show()"
   ]
  },
  {
   "cell_type": "code",
   "execution_count": 36,
   "metadata": {},
   "outputs": [
    {
     "data": {
      "application/vnd.plotly.v1+json": {
       "config": {
        "plotlyServerURL": "https://plot.ly"
       },
       "data": [
        {
         "close": [
          24,
          210,
          126,
          40,
          24,
          232,
          73,
          61,
          65,
          198,
          53,
          28,
          44,
          248,
          94,
          49,
          63,
          210,
          108,
          87,
          77,
          242,
          50,
          49,
          26,
          306,
          98,
          79,
          13,
          361,
          93,
          119,
          76,
          188,
          98,
          75,
          35,
          272,
          116,
          85,
          20,
          345,
          100,
          123,
          69,
          274,
          89,
          87,
          32,
          284,
          113,
          96,
          23,
          386,
          119,
          113,
          76,
          227,
          101,
          95,
          37,
          353,
          153,
          106,
          19,
          420,
          137,
          115,
          58,
          306,
          130,
          115,
          31,
          406,
          156,
          154,
          17,
          573,
          127,
          105,
          75,
          348,
          108,
          100,
          38,
          387,
          179,
          158,
          25,
          450,
          151,
          72,
          53,
          152,
          109,
          73,
          46,
          277,
          149,
          99,
          44,
          335,
          136,
          114,
          72,
          279,
          130,
          100,
          84,
          342,
          159,
          152,
          58,
          412,
          153,
          160,
          75,
          221,
          149,
          149,
          63,
          341,
          188,
          140,
          46,
          434,
          186,
          143,
          41,
          231,
          38
         ],
         "high": [
          137.4042633785735,
          323.4042633785735,
          239.4042633785735,
          153.4042633785735,
          137.4042633785735,
          345.4042633785735,
          186.4042633785735,
          174.4042633785735,
          178.4042633785735,
          311.4042633785735,
          166.4042633785735,
          141.4042633785735,
          157.4042633785735,
          361.4042633785735,
          207.4042633785735,
          162.4042633785735,
          176.4042633785735,
          323.4042633785735,
          221.4042633785735,
          200.4042633785735,
          190.4042633785735,
          355.4042633785735,
          163.4042633785735,
          162.4042633785735,
          139.4042633785735,
          419.4042633785735,
          211.4042633785735,
          192.4042633785735,
          126.4042633785735,
          474.4042633785735,
          206.4042633785735,
          232.4042633785735,
          189.4042633785735,
          301.4042633785735,
          211.4042633785735,
          188.4042633785735,
          148.4042633785735,
          385.4042633785735,
          229.4042633785735,
          198.4042633785735,
          133.4042633785735,
          458.4042633785735,
          213.4042633785735,
          236.4042633785735,
          182.4042633785735,
          387.4042633785735,
          202.4042633785735,
          200.4042633785735,
          145.4042633785735,
          397.4042633785735,
          226.4042633785735,
          209.4042633785735,
          136.4042633785735,
          499.4042633785735,
          232.4042633785735,
          226.4042633785735,
          189.4042633785735,
          340.4042633785735,
          214.4042633785735,
          208.4042633785735,
          150.4042633785735,
          466.4042633785735,
          266.4042633785735,
          219.4042633785735,
          132.4042633785735,
          533.4042633785735,
          250.4042633785735,
          228.4042633785735,
          171.4042633785735,
          419.4042633785735,
          243.4042633785735,
          228.4042633785735,
          144.4042633785735,
          519.4042633785735,
          269.4042633785735,
          267.4042633785735,
          130.4042633785735,
          686.4042633785735,
          240.4042633785735,
          218.4042633785735,
          188.4042633785735,
          461.4042633785735,
          221.4042633785735,
          213.4042633785735,
          151.4042633785735,
          500.4042633785735,
          292.4042633785735,
          271.4042633785735,
          138.4042633785735,
          563.4042633785735,
          264.4042633785735,
          185.4042633785735,
          166.4042633785735,
          265.4042633785735,
          222.4042633785735,
          186.4042633785735,
          159.4042633785735,
          390.4042633785735,
          262.4042633785735,
          212.4042633785735,
          157.4042633785735,
          448.4042633785735,
          249.4042633785735,
          227.4042633785735,
          185.4042633785735,
          392.4042633785735,
          243.4042633785735,
          213.4042633785735,
          197.4042633785735,
          455.4042633785735,
          272.4042633785735,
          265.4042633785735,
          171.4042633785735,
          525.4042633785735,
          266.4042633785735,
          273.4042633785735,
          188.4042633785735,
          334.4042633785735,
          262.4042633785735,
          262.4042633785735,
          176.4042633785735,
          454.4042633785735,
          301.4042633785735,
          253.4042633785735,
          159.4042633785735,
          547.4042633785735,
          299.4042633785735,
          256.4042633785735,
          154.4042633785735,
          344.4042633785735,
          151.4042633785735
         ],
         "low": [
          -89.4042633785735,
          96.5957366214265,
          12.595736621426497,
          -73.4042633785735,
          -89.4042633785735,
          118.5957366214265,
          -40.4042633785735,
          -52.4042633785735,
          -48.4042633785735,
          84.5957366214265,
          -60.4042633785735,
          -85.4042633785735,
          -69.4042633785735,
          134.5957366214265,
          -19.404263378573503,
          -64.4042633785735,
          -50.4042633785735,
          96.5957366214265,
          -5.4042633785735035,
          -26.404263378573503,
          -36.4042633785735,
          128.5957366214265,
          -63.4042633785735,
          -64.4042633785735,
          -87.4042633785735,
          192.5957366214265,
          -15.404263378573503,
          -34.4042633785735,
          -100.4042633785735,
          247.5957366214265,
          -20.404263378573503,
          5.5957366214264965,
          -37.4042633785735,
          74.5957366214265,
          -15.404263378573503,
          -38.4042633785735,
          -78.4042633785735,
          158.5957366214265,
          2.5957366214264965,
          -28.404263378573503,
          -93.4042633785735,
          231.5957366214265,
          -13.404263378573503,
          9.595736621426497,
          -44.4042633785735,
          160.5957366214265,
          -24.404263378573503,
          -26.404263378573503,
          -81.4042633785735,
          170.5957366214265,
          -0.4042633785735035,
          -17.404263378573503,
          -90.4042633785735,
          272.5957366214265,
          5.5957366214264965,
          -0.4042633785735035,
          -37.4042633785735,
          113.5957366214265,
          -12.404263378573503,
          -18.404263378573503,
          -76.4042633785735,
          239.5957366214265,
          39.5957366214265,
          -7.4042633785735035,
          -94.4042633785735,
          306.5957366214265,
          23.595736621426497,
          1.5957366214264965,
          -55.4042633785735,
          192.5957366214265,
          16.595736621426497,
          1.5957366214264965,
          -82.4042633785735,
          292.5957366214265,
          42.5957366214265,
          40.5957366214265,
          -96.4042633785735,
          459.5957366214265,
          13.595736621426497,
          -8.404263378573503,
          -38.4042633785735,
          234.5957366214265,
          -5.4042633785735035,
          -13.404263378573503,
          -75.4042633785735,
          273.5957366214265,
          65.5957366214265,
          44.5957366214265,
          -88.4042633785735,
          336.5957366214265,
          37.5957366214265,
          -41.4042633785735,
          -60.4042633785735,
          38.5957366214265,
          -4.4042633785735035,
          -40.4042633785735,
          -67.4042633785735,
          163.5957366214265,
          35.5957366214265,
          -14.404263378573503,
          -69.4042633785735,
          221.5957366214265,
          22.595736621426497,
          0.5957366214264965,
          -41.4042633785735,
          165.5957366214265,
          16.595736621426497,
          -13.404263378573503,
          -29.404263378573503,
          228.5957366214265,
          45.5957366214265,
          38.5957366214265,
          -55.4042633785735,
          298.5957366214265,
          39.5957366214265,
          46.5957366214265,
          -38.4042633785735,
          107.5957366214265,
          35.5957366214265,
          35.5957366214265,
          -50.4042633785735,
          227.5957366214265,
          74.5957366214265,
          26.595736621426497,
          -67.4042633785735,
          320.5957366214265,
          72.5957366214265,
          29.595736621426497,
          -72.4042633785735,
          117.5957366214265,
          -75.4042633785735
         ],
         "open": [
          24,
          210,
          126,
          40,
          24,
          232,
          73,
          61,
          65,
          198,
          53,
          28,
          44,
          248,
          94,
          49,
          63,
          210,
          108,
          87,
          77,
          242,
          50,
          49,
          26,
          306,
          98,
          79,
          13,
          361,
          93,
          119,
          76,
          188,
          98,
          75,
          35,
          272,
          116,
          85,
          20,
          345,
          100,
          123,
          69,
          274,
          89,
          87,
          32,
          284,
          113,
          96,
          23,
          386,
          119,
          113,
          76,
          227,
          101,
          95,
          37,
          353,
          153,
          106,
          19,
          420,
          137,
          115,
          58,
          306,
          130,
          115,
          31,
          406,
          156,
          154,
          17,
          573,
          127,
          105,
          75,
          348,
          108,
          100,
          38,
          387,
          179,
          158,
          25,
          450,
          151,
          72,
          53,
          152,
          109,
          73,
          46,
          277,
          149,
          99,
          44,
          335,
          136,
          114,
          72,
          279,
          130,
          100,
          84,
          342,
          159,
          152,
          58,
          412,
          153,
          160,
          75,
          221,
          149,
          149,
          63,
          341,
          188,
          140,
          46,
          434,
          186,
          143,
          41,
          231,
          38
         ],
         "type": "candlestick",
         "x": [
          "2012-08-01T00:00:00",
          "2012-09-01T00:00:00",
          "2012-10-01T00:00:00",
          "2012-11-01T00:00:00",
          "2012-12-01T00:00:00",
          "2013-01-01T00:00:00",
          "2013-02-01T00:00:00",
          "2013-03-01T00:00:00",
          "2013-04-01T00:00:00",
          "2013-05-01T00:00:00",
          "2013-06-01T00:00:00",
          "2013-07-01T00:00:00",
          "2013-08-01T00:00:00",
          "2013-09-01T00:00:00",
          "2013-10-01T00:00:00",
          "2013-11-01T00:00:00",
          "2013-12-01T00:00:00",
          "2014-01-01T00:00:00",
          "2014-02-01T00:00:00",
          "2014-03-01T00:00:00",
          "2014-04-01T00:00:00",
          "2014-05-01T00:00:00",
          "2014-06-01T00:00:00",
          "2014-07-01T00:00:00",
          "2014-08-01T00:00:00",
          "2014-09-01T00:00:00",
          "2014-10-01T00:00:00",
          "2014-11-01T00:00:00",
          "2014-12-01T00:00:00",
          "2015-01-01T00:00:00",
          "2015-02-01T00:00:00",
          "2015-03-01T00:00:00",
          "2015-04-01T00:00:00",
          "2015-05-01T00:00:00",
          "2015-06-01T00:00:00",
          "2015-07-01T00:00:00",
          "2015-08-01T00:00:00",
          "2015-09-01T00:00:00",
          "2015-10-01T00:00:00",
          "2015-11-01T00:00:00",
          "2015-12-01T00:00:00",
          "2016-01-01T00:00:00",
          "2016-02-01T00:00:00",
          "2016-03-01T00:00:00",
          "2016-04-01T00:00:00",
          "2016-05-01T00:00:00",
          "2016-06-01T00:00:00",
          "2016-07-01T00:00:00",
          "2016-08-01T00:00:00",
          "2016-09-01T00:00:00",
          "2016-10-01T00:00:00",
          "2016-11-01T00:00:00",
          "2016-12-01T00:00:00",
          "2017-01-01T00:00:00",
          "2017-02-01T00:00:00",
          "2017-03-01T00:00:00",
          "2017-04-01T00:00:00",
          "2017-05-01T00:00:00",
          "2017-06-01T00:00:00",
          "2017-07-01T00:00:00",
          "2017-08-01T00:00:00",
          "2017-09-01T00:00:00",
          "2017-10-01T00:00:00",
          "2017-11-01T00:00:00",
          "2017-12-01T00:00:00",
          "2018-01-01T00:00:00",
          "2018-02-01T00:00:00",
          "2018-03-01T00:00:00",
          "2018-04-01T00:00:00",
          "2018-05-01T00:00:00",
          "2018-06-01T00:00:00",
          "2018-07-01T00:00:00",
          "2018-08-01T00:00:00",
          "2018-09-01T00:00:00",
          "2018-10-01T00:00:00",
          "2018-11-01T00:00:00",
          "2018-12-01T00:00:00",
          "2019-01-01T00:00:00",
          "2019-02-01T00:00:00",
          "2019-03-01T00:00:00",
          "2019-04-01T00:00:00",
          "2019-05-01T00:00:00",
          "2019-06-01T00:00:00",
          "2019-07-01T00:00:00",
          "2019-08-01T00:00:00",
          "2019-09-01T00:00:00",
          "2019-10-01T00:00:00",
          "2019-11-01T00:00:00",
          "2019-12-01T00:00:00",
          "2020-01-01T00:00:00",
          "2020-02-01T00:00:00",
          "2020-03-01T00:00:00",
          "2020-04-01T00:00:00",
          "2020-05-01T00:00:00",
          "2020-06-01T00:00:00",
          "2020-07-01T00:00:00",
          "2020-08-01T00:00:00",
          "2020-09-01T00:00:00",
          "2020-10-01T00:00:00",
          "2020-11-01T00:00:00",
          "2020-12-01T00:00:00",
          "2021-01-01T00:00:00",
          "2021-02-01T00:00:00",
          "2021-03-01T00:00:00",
          "2021-04-01T00:00:00",
          "2021-05-01T00:00:00",
          "2021-06-01T00:00:00",
          "2021-07-01T00:00:00",
          "2021-08-01T00:00:00",
          "2021-09-01T00:00:00",
          "2021-10-01T00:00:00",
          "2021-11-01T00:00:00",
          "2021-12-01T00:00:00",
          "2022-01-01T00:00:00",
          "2022-02-01T00:00:00",
          "2022-03-01T00:00:00",
          "2022-04-01T00:00:00",
          "2022-05-01T00:00:00",
          "2022-06-01T00:00:00",
          "2022-07-01T00:00:00",
          "2022-08-01T00:00:00",
          "2022-09-01T00:00:00",
          "2022-10-01T00:00:00",
          "2022-11-01T00:00:00",
          "2022-12-01T00:00:00",
          "2023-01-01T00:00:00",
          "2023-02-01T00:00:00",
          "2023-03-01T00:00:00",
          "2023-04-01T00:00:00",
          "2023-05-01T00:00:00",
          "2023-06-01T00:00:00"
         ]
        }
       ],
       "layout": {
        "template": {
         "data": {
          "bar": [
           {
            "error_x": {
             "color": "#2a3f5f"
            },
            "error_y": {
             "color": "#2a3f5f"
            },
            "marker": {
             "line": {
              "color": "#E5ECF6",
              "width": 0.5
             },
             "pattern": {
              "fillmode": "overlay",
              "size": 10,
              "solidity": 0.2
             }
            },
            "type": "bar"
           }
          ],
          "barpolar": [
           {
            "marker": {
             "line": {
              "color": "#E5ECF6",
              "width": 0.5
             },
             "pattern": {
              "fillmode": "overlay",
              "size": 10,
              "solidity": 0.2
             }
            },
            "type": "barpolar"
           }
          ],
          "carpet": [
           {
            "aaxis": {
             "endlinecolor": "#2a3f5f",
             "gridcolor": "white",
             "linecolor": "white",
             "minorgridcolor": "white",
             "startlinecolor": "#2a3f5f"
            },
            "baxis": {
             "endlinecolor": "#2a3f5f",
             "gridcolor": "white",
             "linecolor": "white",
             "minorgridcolor": "white",
             "startlinecolor": "#2a3f5f"
            },
            "type": "carpet"
           }
          ],
          "choropleth": [
           {
            "colorbar": {
             "outlinewidth": 0,
             "ticks": ""
            },
            "type": "choropleth"
           }
          ],
          "contour": [
           {
            "colorbar": {
             "outlinewidth": 0,
             "ticks": ""
            },
            "colorscale": [
             [
              0,
              "#0d0887"
             ],
             [
              0.1111111111111111,
              "#46039f"
             ],
             [
              0.2222222222222222,
              "#7201a8"
             ],
             [
              0.3333333333333333,
              "#9c179e"
             ],
             [
              0.4444444444444444,
              "#bd3786"
             ],
             [
              0.5555555555555556,
              "#d8576b"
             ],
             [
              0.6666666666666666,
              "#ed7953"
             ],
             [
              0.7777777777777778,
              "#fb9f3a"
             ],
             [
              0.8888888888888888,
              "#fdca26"
             ],
             [
              1,
              "#f0f921"
             ]
            ],
            "type": "contour"
           }
          ],
          "contourcarpet": [
           {
            "colorbar": {
             "outlinewidth": 0,
             "ticks": ""
            },
            "type": "contourcarpet"
           }
          ],
          "heatmap": [
           {
            "colorbar": {
             "outlinewidth": 0,
             "ticks": ""
            },
            "colorscale": [
             [
              0,
              "#0d0887"
             ],
             [
              0.1111111111111111,
              "#46039f"
             ],
             [
              0.2222222222222222,
              "#7201a8"
             ],
             [
              0.3333333333333333,
              "#9c179e"
             ],
             [
              0.4444444444444444,
              "#bd3786"
             ],
             [
              0.5555555555555556,
              "#d8576b"
             ],
             [
              0.6666666666666666,
              "#ed7953"
             ],
             [
              0.7777777777777778,
              "#fb9f3a"
             ],
             [
              0.8888888888888888,
              "#fdca26"
             ],
             [
              1,
              "#f0f921"
             ]
            ],
            "type": "heatmap"
           }
          ],
          "heatmapgl": [
           {
            "colorbar": {
             "outlinewidth": 0,
             "ticks": ""
            },
            "colorscale": [
             [
              0,
              "#0d0887"
             ],
             [
              0.1111111111111111,
              "#46039f"
             ],
             [
              0.2222222222222222,
              "#7201a8"
             ],
             [
              0.3333333333333333,
              "#9c179e"
             ],
             [
              0.4444444444444444,
              "#bd3786"
             ],
             [
              0.5555555555555556,
              "#d8576b"
             ],
             [
              0.6666666666666666,
              "#ed7953"
             ],
             [
              0.7777777777777778,
              "#fb9f3a"
             ],
             [
              0.8888888888888888,
              "#fdca26"
             ],
             [
              1,
              "#f0f921"
             ]
            ],
            "type": "heatmapgl"
           }
          ],
          "histogram": [
           {
            "marker": {
             "pattern": {
              "fillmode": "overlay",
              "size": 10,
              "solidity": 0.2
             }
            },
            "type": "histogram"
           }
          ],
          "histogram2d": [
           {
            "colorbar": {
             "outlinewidth": 0,
             "ticks": ""
            },
            "colorscale": [
             [
              0,
              "#0d0887"
             ],
             [
              0.1111111111111111,
              "#46039f"
             ],
             [
              0.2222222222222222,
              "#7201a8"
             ],
             [
              0.3333333333333333,
              "#9c179e"
             ],
             [
              0.4444444444444444,
              "#bd3786"
             ],
             [
              0.5555555555555556,
              "#d8576b"
             ],
             [
              0.6666666666666666,
              "#ed7953"
             ],
             [
              0.7777777777777778,
              "#fb9f3a"
             ],
             [
              0.8888888888888888,
              "#fdca26"
             ],
             [
              1,
              "#f0f921"
             ]
            ],
            "type": "histogram2d"
           }
          ],
          "histogram2dcontour": [
           {
            "colorbar": {
             "outlinewidth": 0,
             "ticks": ""
            },
            "colorscale": [
             [
              0,
              "#0d0887"
             ],
             [
              0.1111111111111111,
              "#46039f"
             ],
             [
              0.2222222222222222,
              "#7201a8"
             ],
             [
              0.3333333333333333,
              "#9c179e"
             ],
             [
              0.4444444444444444,
              "#bd3786"
             ],
             [
              0.5555555555555556,
              "#d8576b"
             ],
             [
              0.6666666666666666,
              "#ed7953"
             ],
             [
              0.7777777777777778,
              "#fb9f3a"
             ],
             [
              0.8888888888888888,
              "#fdca26"
             ],
             [
              1,
              "#f0f921"
             ]
            ],
            "type": "histogram2dcontour"
           }
          ],
          "mesh3d": [
           {
            "colorbar": {
             "outlinewidth": 0,
             "ticks": ""
            },
            "type": "mesh3d"
           }
          ],
          "parcoords": [
           {
            "line": {
             "colorbar": {
              "outlinewidth": 0,
              "ticks": ""
             }
            },
            "type": "parcoords"
           }
          ],
          "pie": [
           {
            "automargin": true,
            "type": "pie"
           }
          ],
          "scatter": [
           {
            "fillpattern": {
             "fillmode": "overlay",
             "size": 10,
             "solidity": 0.2
            },
            "type": "scatter"
           }
          ],
          "scatter3d": [
           {
            "line": {
             "colorbar": {
              "outlinewidth": 0,
              "ticks": ""
             }
            },
            "marker": {
             "colorbar": {
              "outlinewidth": 0,
              "ticks": ""
             }
            },
            "type": "scatter3d"
           }
          ],
          "scattercarpet": [
           {
            "marker": {
             "colorbar": {
              "outlinewidth": 0,
              "ticks": ""
             }
            },
            "type": "scattercarpet"
           }
          ],
          "scattergeo": [
           {
            "marker": {
             "colorbar": {
              "outlinewidth": 0,
              "ticks": ""
             }
            },
            "type": "scattergeo"
           }
          ],
          "scattergl": [
           {
            "marker": {
             "colorbar": {
              "outlinewidth": 0,
              "ticks": ""
             }
            },
            "type": "scattergl"
           }
          ],
          "scattermapbox": [
           {
            "marker": {
             "colorbar": {
              "outlinewidth": 0,
              "ticks": ""
             }
            },
            "type": "scattermapbox"
           }
          ],
          "scatterpolar": [
           {
            "marker": {
             "colorbar": {
              "outlinewidth": 0,
              "ticks": ""
             }
            },
            "type": "scatterpolar"
           }
          ],
          "scatterpolargl": [
           {
            "marker": {
             "colorbar": {
              "outlinewidth": 0,
              "ticks": ""
             }
            },
            "type": "scatterpolargl"
           }
          ],
          "scatterternary": [
           {
            "marker": {
             "colorbar": {
              "outlinewidth": 0,
              "ticks": ""
             }
            },
            "type": "scatterternary"
           }
          ],
          "surface": [
           {
            "colorbar": {
             "outlinewidth": 0,
             "ticks": ""
            },
            "colorscale": [
             [
              0,
              "#0d0887"
             ],
             [
              0.1111111111111111,
              "#46039f"
             ],
             [
              0.2222222222222222,
              "#7201a8"
             ],
             [
              0.3333333333333333,
              "#9c179e"
             ],
             [
              0.4444444444444444,
              "#bd3786"
             ],
             [
              0.5555555555555556,
              "#d8576b"
             ],
             [
              0.6666666666666666,
              "#ed7953"
             ],
             [
              0.7777777777777778,
              "#fb9f3a"
             ],
             [
              0.8888888888888888,
              "#fdca26"
             ],
             [
              1,
              "#f0f921"
             ]
            ],
            "type": "surface"
           }
          ],
          "table": [
           {
            "cells": {
             "fill": {
              "color": "#EBF0F8"
             },
             "line": {
              "color": "white"
             }
            },
            "header": {
             "fill": {
              "color": "#C8D4E3"
             },
             "line": {
              "color": "white"
             }
            },
            "type": "table"
           }
          ]
         },
         "layout": {
          "annotationdefaults": {
           "arrowcolor": "#2a3f5f",
           "arrowhead": 0,
           "arrowwidth": 1
          },
          "autotypenumbers": "strict",
          "coloraxis": {
           "colorbar": {
            "outlinewidth": 0,
            "ticks": ""
           }
          },
          "colorscale": {
           "diverging": [
            [
             0,
             "#8e0152"
            ],
            [
             0.1,
             "#c51b7d"
            ],
            [
             0.2,
             "#de77ae"
            ],
            [
             0.3,
             "#f1b6da"
            ],
            [
             0.4,
             "#fde0ef"
            ],
            [
             0.5,
             "#f7f7f7"
            ],
            [
             0.6,
             "#e6f5d0"
            ],
            [
             0.7,
             "#b8e186"
            ],
            [
             0.8,
             "#7fbc41"
            ],
            [
             0.9,
             "#4d9221"
            ],
            [
             1,
             "#276419"
            ]
           ],
           "sequential": [
            [
             0,
             "#0d0887"
            ],
            [
             0.1111111111111111,
             "#46039f"
            ],
            [
             0.2222222222222222,
             "#7201a8"
            ],
            [
             0.3333333333333333,
             "#9c179e"
            ],
            [
             0.4444444444444444,
             "#bd3786"
            ],
            [
             0.5555555555555556,
             "#d8576b"
            ],
            [
             0.6666666666666666,
             "#ed7953"
            ],
            [
             0.7777777777777778,
             "#fb9f3a"
            ],
            [
             0.8888888888888888,
             "#fdca26"
            ],
            [
             1,
             "#f0f921"
            ]
           ],
           "sequentialminus": [
            [
             0,
             "#0d0887"
            ],
            [
             0.1111111111111111,
             "#46039f"
            ],
            [
             0.2222222222222222,
             "#7201a8"
            ],
            [
             0.3333333333333333,
             "#9c179e"
            ],
            [
             0.4444444444444444,
             "#bd3786"
            ],
            [
             0.5555555555555556,
             "#d8576b"
            ],
            [
             0.6666666666666666,
             "#ed7953"
            ],
            [
             0.7777777777777778,
             "#fb9f3a"
            ],
            [
             0.8888888888888888,
             "#fdca26"
            ],
            [
             1,
             "#f0f921"
            ]
           ]
          },
          "colorway": [
           "#636efa",
           "#EF553B",
           "#00cc96",
           "#ab63fa",
           "#FFA15A",
           "#19d3f3",
           "#FF6692",
           "#B6E880",
           "#FF97FF",
           "#FECB52"
          ],
          "font": {
           "color": "#2a3f5f"
          },
          "geo": {
           "bgcolor": "white",
           "lakecolor": "white",
           "landcolor": "#E5ECF6",
           "showlakes": true,
           "showland": true,
           "subunitcolor": "white"
          },
          "hoverlabel": {
           "align": "left"
          },
          "hovermode": "closest",
          "mapbox": {
           "style": "light"
          },
          "paper_bgcolor": "white",
          "plot_bgcolor": "#E5ECF6",
          "polar": {
           "angularaxis": {
            "gridcolor": "white",
            "linecolor": "white",
            "ticks": ""
           },
           "bgcolor": "#E5ECF6",
           "radialaxis": {
            "gridcolor": "white",
            "linecolor": "white",
            "ticks": ""
           }
          },
          "scene": {
           "xaxis": {
            "backgroundcolor": "#E5ECF6",
            "gridcolor": "white",
            "gridwidth": 2,
            "linecolor": "white",
            "showbackground": true,
            "ticks": "",
            "zerolinecolor": "white"
           },
           "yaxis": {
            "backgroundcolor": "#E5ECF6",
            "gridcolor": "white",
            "gridwidth": 2,
            "linecolor": "white",
            "showbackground": true,
            "ticks": "",
            "zerolinecolor": "white"
           },
           "zaxis": {
            "backgroundcolor": "#E5ECF6",
            "gridcolor": "white",
            "gridwidth": 2,
            "linecolor": "white",
            "showbackground": true,
            "ticks": "",
            "zerolinecolor": "white"
           }
          },
          "shapedefaults": {
           "line": {
            "color": "#2a3f5f"
           }
          },
          "ternary": {
           "aaxis": {
            "gridcolor": "white",
            "linecolor": "white",
            "ticks": ""
           },
           "baxis": {
            "gridcolor": "white",
            "linecolor": "white",
            "ticks": ""
           },
           "bgcolor": "#E5ECF6",
           "caxis": {
            "gridcolor": "white",
            "linecolor": "white",
            "ticks": ""
           }
          },
          "title": {
           "x": 0.05
          },
          "xaxis": {
           "automargin": true,
           "gridcolor": "white",
           "linecolor": "white",
           "ticks": "",
           "title": {
            "standoff": 15
           },
           "zerolinecolor": "white",
           "zerolinewidth": 2
          },
          "yaxis": {
           "automargin": true,
           "gridcolor": "white",
           "linecolor": "white",
           "ticks": "",
           "title": {
            "standoff": 15
           },
           "zerolinecolor": "white",
           "zerolinewidth": 2
          }
         }
        },
        "title": {
         "text": "Monthly Job Postings Variance Since 2012"
        },
        "xaxis": {
         "anchor": "y",
         "domain": [
          0,
          1
         ],
         "rangeslider": {
          "visible": true
         },
         "title": {
          "text": "Date"
         }
        },
        "yaxis": {
         "anchor": "x",
         "domain": [
          0,
          1
         ],
         "title": {
          "text": "Number of Job Postings"
         }
        }
       }
      }
     },
     "metadata": {},
     "output_type": "display_data"
    }
   ],
   "source": [
    "# Ensure df_explo[\"date_goes_live\"] is in the correct format (e.g., datetime)\n",
    "df_explo[\"date_goes_live\"] = pd.to_datetime(df_explo[\"date_goes_live\"])\n",
    "\n",
    "# Extract year and month from the date\n",
    "df_explo[\"year\"] = df_explo[\"date_goes_live\"].dt.year\n",
    "df_explo[\"month\"] = df_explo[\"date_goes_live\"].dt.month\n",
    "\n",
    "# Group by year and month, summing up the counts\n",
    "df_month_sum = df_explo.groupby([\"year\", \"month\"]).size().reset_index(name=\"count\")\n",
    "\n",
    "# Combine year and month columns into a single date column\n",
    "df_month_sum[\"date\"] = pd.to_datetime(df_month_sum[['year', 'month']].assign(DAY=1))\n",
    "\n",
    "# Sort by date\n",
    "df_month_sum.sort_values(\"date\", inplace=True)\n",
    "\n",
    "# Create subplot with Plotly\n",
    "fig = make_subplots(rows=1, cols=1)\n",
    "\n",
    "# Add candlestick trace to subplot\n",
    "fig.add_trace(go.Candlestick(x=df_month_sum['date'],\n",
    "                open=df_month_sum['count'],\n",
    "                high=df_month_sum['count'] + df_month_sum['count'].std(),\n",
    "                low=df_month_sum['count'] - df_month_sum['count'].std(),\n",
    "                close=df_month_sum['count']))\n",
    "\n",
    "# Update the layout for better visualization\n",
    "fig.update_layout(\n",
    "    title='Monthly Job Postings Variance Since 2012',\n",
    "    xaxis_title='Date',\n",
    "    yaxis_title='Number of Job Postings',\n",
    "    xaxis_rangeslider_visible=True,\n",
    ")\n",
    "\n",
    "# Save the figure and display the plot in Jupyter Notebook\n",
    "directory_path = \"reports/figures/\"\n",
    "os.makedirs(directory_path, exist_ok=True)\n",
    "file_path = os.path.join(directory_path, \"coop_joined_monthly_postings_since_2012_candles.html\")\n",
    "pio.write_html(fig, file_path)\n",
    "fig.show()"
   ]
  },
  {
   "cell_type": "markdown",
   "metadata": {
    "collapsed": false,
    "jupyter": {
     "outputs_hidden": false
    },
    "pycharm": {
     "name": "#%% md\n"
    }
   },
   "source": [
    "# Exploration of the Programs"
   ]
  },
  {
   "cell_type": "code",
   "execution_count": 37,
   "metadata": {},
   "outputs": [
    {
     "name": "stdout",
     "output_type": "stream",
     "text": [
      "1153\n"
     ]
    }
   ],
   "source": [
    "print(\n",
    "    df_coop_program_listed[\"job_description\"][\n",
    "        df_coop_program_listed[\"job_description\"].duplicated()\n",
    "    ].count()\n",
    ")"
   ]
  },
  {
   "cell_type": "code",
   "execution_count": 38,
   "metadata": {},
   "outputs": [
    {
     "data": {
      "image/png": "[encoded data removed]",
      "text/plain": [
       "<Figure size 800x500 with 1 Axes>"
      ]
     },
     "metadata": {},
     "output_type": "display_data"
    }
   ],
   "source": [
    "# Assuming program_name is a list in each row of df_explo\n",
    "series_explo_program_name = df_explo[\"program_name\"]\\\n",
    "    .apply(pd.Series)\\\n",
    "    .stack()\\\n",
    "    .reset_index(level=1, drop=True)\n",
    "\n",
    "# Count the occurrences of each program_name\n",
    "program_counts = series_explo_program_name.value_counts()\n",
    "\n",
    "# Adjust the figure size directly\n",
    "plt.figure(figsize=(8, 5))\n",
    "\n",
    "# Use sns.barplot to display counts of each program_name\n",
    "ax = sns.barplot(x=program_counts.index, y=program_counts.values, capsize=0.2)\n",
    "\n",
    "# Set title\n",
    "ax.set_title(\"Number of Job Postings by Program\", fontsize=16)\n",
    "\n",
    "# Set labels, tick positions, and adjust tick labels\n",
    "ax.set(xlabel=\"Programs\", ylabel=\"Number of job postings\")\n",
    "ax.set_xticks(range(len(program_counts)))  # Set explicit tick positions\n",
    "ax.set_xticklabels(program_counts.index, rotation=90, ha=\"right\")\n",
    "\n",
    "# Add count labels on top of the bars\n",
    "ax.bar_label(ax.containers[0])\n",
    "\n",
    "# Save the figure and display the plot\n",
    "plt.savefig(\"reports/figures/coop_postings_programs.png\", bbox_inches=\"tight\", dpi=300)\n",
    "plt.show()"
   ]
  },
  {
   "cell_type": "code",
   "execution_count": 39,
   "metadata": {},
   "outputs": [],
   "source": [
    "# Assuming df_explo['program_name'] is a list in each row\n",
    "df_explo_exploded = df_explo.explode(\"program_name\")"
   ]
  },
  {
   "cell_type": "code",
   "execution_count": 40,
   "metadata": {},
   "outputs": [],
   "source": [
    "counts = pd.DataFrame(df_explo_exploded['program_name'].value_counts()).reset_index()\n",
    "counts.columns = ['Program Name', 'Job Postings Count']"
   ]
  },
  {
   "cell_type": "code",
   "execution_count": 41,
   "metadata": {},
   "outputs": [],
   "source": [
    "counts.to_csv('reports/program_name_count.csv', index=False)"
   ]
  },
  {
   "cell_type": "code",
   "execution_count": 42,
   "metadata": {
    "collapsed": false,
    "jupyter": {
     "outputs_hidden": false
    },
    "pycharm": {
     "is_executing": true,
     "name": "#%%\n"
    }
   },
   "outputs": [
    {
     "data": {
      "image/png": "[encoded data removed]",
      "text/plain": [
       "<Figure size 2200x1000 with 1 Axes>"
      ]
     },
     "metadata": {},
     "output_type": "display_data"
    }
   ],
   "source": [
    "# Group by year and program_name and count the occurrences\n",
    "s = (\n",
    "    df_explo_exploded.groupby(\n",
    "        [df_explo_exploded[\"date_goes_live\"].dt.year, \"program_name\"]\n",
    "    ).size().reset_index(name=\"count\")\n",
    ")\n",
    "\n",
    "# Set the figure size\n",
    "plt.figure(figsize=(22, 10))\n",
    "\n",
    "# Use sns.barplot to display counts of each program_name\n",
    "ax = sns.barplot(x=\"date_goes_live\", y=\"count\", data=s, hue=\"program_name\")\n",
    "\n",
    "# Set title and labels\n",
    "ax.set_title(\n",
    "    \"Yearly Number of Job Postings Grouped by Program Names\",\n",
    "    fontdict={\"size\": 15}\n",
    ")\n",
    "ax.set_xlabel(\"Year\")\n",
    "\n",
    "# Save the figure and display the plot\n",
    "plt.savefig(\n",
    "    \"reports/figures/coop_yearly_postings_group_programs.png\",\n",
    "    bbox_inches=\"tight\",\n",
    "    dpi=300,\n",
    ")\n",
    "plt.show()"
   ]
  }
 ],
 "metadata": {
  "kernelspec": {
   "display_name": "soft-skills-env",
   "language": "python",
   "name": "python3"
  },
  "language_info": {
   "codemirror_mode": {
    "name": "ipython",
    "version": 3
   },
   "file_extension": ".py",
   "mimetype": "text/x-python",
   "name": "python",
   "nbconvert_exporter": "python",
   "pygments_lexer": "ipython3",
   "version": "3.10.13"
  }
 },
 "nbformat": 4,
 "nbformat_minor": 4
}
