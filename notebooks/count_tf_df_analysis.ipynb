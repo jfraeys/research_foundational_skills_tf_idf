{
 "cells": [
  {
   "cell_type": "code",
   "execution_count": 1,
   "id": "2ea1d1c9-7a92-49eb-a623-f30cb06ba2b4",
   "metadata": {
    "editable": true,
    "executionInfo": {
     "elapsed": 3241,
     "status": "ok",
     "timestamp": 1713304121424,
     "user": {
      "displayName": "Jeremie Fraeys",
      "userId": "16940547016236392797"
     },
     "user_tz": 240
    },
    "id": "2ea1d1c9-7a92-49eb-a623-f30cb06ba2b4",
    "slideshow": {
     "slide_type": ""
    },
    "tags": []
   },
   "outputs": [],
   "source": [
    "import os\n",
    "import sys\n",
    "\n",
    "import pandas as pd\n",
    "from ast import literal_eval\n",
    "\n",
    "from tqdm.notebook import tqdm\n",
    "tqdm.pandas()"
   ]
  },
  {
   "cell_type": "code",
   "execution_count": 2,
   "id": "e7713bfb-abb9-4a3c-a855-e5d709920e3e",
   "metadata": {},
   "outputs": [],
   "source": [
    "current_dir = os.getcwd()"
   ]
  },
  {
   "cell_type": "code",
   "execution_count": 3,
   "id": "d1d901ea-31f7-4b04-8636-50d476c1e241",
   "metadata": {},
   "outputs": [],
   "source": [
    "sys.path.append(os.path.join(current_dir, '..', 'src'))"
   ]
  },
  {
   "cell_type": "code",
   "execution_count": 5,
   "id": "f294551d",
   "metadata": {
    "tags": []
   },
   "outputs": [],
   "source": [
    "import analysis_helper, colab_utils"
   ]
  },
  {
   "cell_type": "code",
   "execution_count": 6,
   "id": "292096fc-630b-4610-a96c-7237d674ed27",
   "metadata": {
    "executionInfo": {
     "elapsed": 111,
     "status": "ok",
     "timestamp": 1713304126529,
     "user": {
      "displayName": "Jeremie Fraeys",
      "userId": "16940547016236392797"
     },
     "user_tz": 240
    },
    "id": "292096fc-630b-4610-a96c-7237d674ed27",
    "tags": []
   },
   "outputs": [],
   "source": [
    "# Define file paths\n",
    "project_filenames = {\n",
    "    \"job_prg_name_filename\": \"data/interim/post_processing_job_postings.csv\",\n",
    "    \"job_timeline_filename\": \"data/interim/post_processing_job_timeline.csv\",\n",
    "    \"foundal_skills_filename\": \"data/interim/post_processing_soft_skills.csv\",\n",
    "    \"replace_skills_prg_name\": \"data/interim/replace_skills_job_programs.csv\",\n",
    "    \"replace_skills_timeline\": \"data/interim/replace_skills_job_timeline.csv\",\n",
    "}"
   ]
  },
  {
   "cell_type": "code",
   "execution_count": 7,
   "id": "62e76f1b-74d4-4564-ac40-2425da7ed192",
   "metadata": {},
   "outputs": [
    {
     "name": "stdout",
     "output_type": "stream",
     "text": [
      "Error setting up environment: name 'current_dir' is not defined\n"
     ]
    }
   ],
   "source": [
    "try:\n",
    "    env_info = colab_utils.setup_environment(\n",
    "        filenames=project_filenames,\n",
    "        colab_project_path=current_dir\n",
    "    )\n",
    "    if env_info[\"in_colab\"]:\n",
    "        print(\"Google Colab detected.\")\n",
    "    else:\n",
    "        print(\"Not running in Google Colab.\")\n",
    "    \n",
    "    print(f\"Foundational Skills File: {env_info['foundal_skills_filename']}\")\n",
    "except Exception as e:\n",
    "    print(f\"Error setting up environment: {e}\")"
   ]
  },
  {
   "cell_type": "code",
   "execution_count": 4,
   "id": "57bdefa7-9209-4953-b0a3-1a99d0ad0c1a",
   "metadata": {},
   "outputs": [],
   "source": [
    "del current_dir"
   ]
  },
  {
   "cell_type": "markdown",
   "id": "642458a4-65ab-45b5-8a75-f927b775c8a2",
   "metadata": {
    "id": "642458a4-65ab-45b5-8a75-f927b775c8a2"
   },
   "source": [
    "# Reading the foundational skills"
   ]
  },
  {
   "cell_type": "code",
   "execution_count": 8,
   "id": "cf12cad4-5de1-4b0b-a31f-7505086b1f14",
   "metadata": {
    "executionInfo": {
     "elapsed": 99,
     "status": "ok",
     "timestamp": 1713304373691,
     "user": {
      "displayName": "Jeremie Fraeys",
      "userId": "16940547016236392797"
     },
     "user_tz": 240
    },
    "id": "cf12cad4-5de1-4b0b-a31f-7505086b1f14",
    "tags": []
   },
   "outputs": [],
   "source": [
    "from IPython.core.interactiveshell import InteractiveShell\n",
    "InteractiveShell.ast_node_interactivity = \"all\""
   ]
  },
  {
   "cell_type": "code",
   "execution_count": 9,
   "id": "24edb644-a2e5-4900-85b8-5912d15130d3",
   "metadata": {
    "executionInfo": {
     "elapsed": 119,
     "status": "ok",
     "timestamp": 1713304374611,
     "user": {
      "displayName": "Jeremie Fraeys",
      "userId": "16940547016236392797"
     },
     "user_tz": 240
    },
    "id": "24edb644-a2e5-4900-85b8-5912d15130d3",
    "tags": []
   },
   "outputs": [
    {
     "ename": "NameError",
     "evalue": "name 'env_info' is not defined",
     "output_type": "error",
     "traceback": [
      "\u001b[0;31m---------------------------------------------------------------------------\u001b[0m",
      "\u001b[0;31mNameError\u001b[0m                                 Traceback (most recent call last)",
      "Cell \u001b[0;32mIn[9], line 2\u001b[0m\n\u001b[1;32m      1\u001b[0m \u001b[38;5;66;03m# Import soft skills data\u001b[39;00m\n\u001b[0;32m----> 2\u001b[0m df_soft_skills \u001b[38;5;241m=\u001b[39m pd\u001b[38;5;241m.\u001b[39mread_csv(\u001b[43menv_info\u001b[49m[\u001b[38;5;124m'\u001b[39m\u001b[38;5;124mfoundal_skills_filename\u001b[39m\u001b[38;5;124m'\u001b[39m])\n",
      "\u001b[0;31mNameError\u001b[0m: name 'env_info' is not defined"
     ]
    }
   ],
   "source": [
    "# Import soft skills data\n",
    "df_soft_skills = pd.read_csv(env_info['foundal_skills_filename'])"
   ]
  },
  {
   "cell_type": "code",
   "execution_count": null,
   "id": "fd9e7688-f9e0-4046-bf5b-b864c3835476",
   "metadata": {
    "executionInfo": {
     "elapsed": 3,
     "status": "ok",
     "timestamp": 1713304375357,
     "user": {
      "displayName": "Jeremie Fraeys",
      "userId": "16940547016236392797"
     },
     "user_tz": 240
    },
    "id": "fd9e7688-f9e0-4046-bf5b-b864c3835476",
    "tags": []
   },
   "outputs": [],
   "source": [
    "# Read str as list in csv files\n",
    "# df_soft_skills['alt_labels']=df_soft_skills['alt_labels'].apply(literal_eval)\n",
    "df_soft_skills['alt_labels_lemm']=df_soft_skills['alt_labels_lemm'].apply(literal_eval)"
   ]
  },
  {
   "cell_type": "markdown",
   "id": "b4c52c40-2b4f-48f4-a9fb-7df453d797c3",
   "metadata": {
    "id": "b4c52c40-2b4f-48f4-a9fb-7df453d797c3",
    "tags": []
   },
   "source": [
    "# Reading job posting and replacing the alt_labels with the lemmatized alt_labels"
   ]
  },
  {
   "cell_type": "code",
   "execution_count": null,
   "id": "d28faac8-75d9-4e9b-8b24-8b3d5582bd10",
   "metadata": {
    "executionInfo": {
     "elapsed": 14358,
     "status": "ok",
     "timestamp": 1713304393002,
     "user": {
      "displayName": "Jeremie Fraeys",
      "userId": "16940547016236392797"
     },
     "user_tz": 240
    },
    "id": "d28faac8-75d9-4e9b-8b24-8b3d5582bd10",
    "tags": []
   },
   "outputs": [],
   "source": [
    "# Read job description data\n",
    "df_coop_prg_name = pd.read_csv(env_info['replace_skills_prg_name'])\n",
    "df_coop_timeline = pd.read_csv(env_info['replace_skills_timeline'])"
   ]
  },
  {
   "cell_type": "code",
   "execution_count": 10,
   "id": "f2b62233-5a17-43bc-b74c-a19124bd5333",
   "metadata": {
    "executionInfo": {
     "elapsed": 117,
     "status": "ok",
     "timestamp": 1713304400537,
     "user": {
      "displayName": "Jeremie Fraeys",
      "userId": "16940547016236392797"
     },
     "user_tz": 240
    },
    "id": "f2b62233-5a17-43bc-b74c-a19124bd5333",
    "tags": []
   },
   "outputs": [
    {
     "ename": "NameError",
     "evalue": "name 'df_coop_timeline' is not defined",
     "output_type": "error",
     "traceback": [
      "\u001b[0;31m---------------------------------------------------------------------------\u001b[0m",
      "\u001b[0;31mNameError\u001b[0m                                 Traceback (most recent call last)",
      "Cell \u001b[0;32mIn[10], line 1\u001b[0m\n\u001b[0;32m----> 1\u001b[0m df_coop_timeline[\u001b[38;5;124m'\u001b[39m\u001b[38;5;124mdate_goes_live\u001b[39m\u001b[38;5;124m'\u001b[39m] \u001b[38;5;241m=\u001b[39m pd\u001b[38;5;241m.\u001b[39mto_datetime(\u001b[43mdf_coop_timeline\u001b[49m[\u001b[38;5;124m'\u001b[39m\u001b[38;5;124mdate_goes_live\u001b[39m\u001b[38;5;124m'\u001b[39m])\n",
      "\u001b[0;31mNameError\u001b[0m: name 'df_coop_timeline' is not defined"
     ]
    }
   ],
   "source": [
    "df_coop_timeline['date_goes_live'] = pd.to_datetime(df_coop_timeline['date_goes_live'])"
   ]
  },
  {
   "cell_type": "code",
   "execution_count": 11,
   "id": "864ca999-6baa-4c1b-bba5-500655b13e02",
   "metadata": {
    "id": "864ca999-6baa-4c1b-bba5-500655b13e02",
    "tags": []
   },
   "outputs": [
    {
     "ename": "NameError",
     "evalue": "name 'df_coop_timeline' is not defined",
     "output_type": "error",
     "traceback": [
      "\u001b[0;31m---------------------------------------------------------------------------\u001b[0m",
      "\u001b[0;31mNameError\u001b[0m                                 Traceback (most recent call last)",
      "Cell \u001b[0;32mIn[11], line 1\u001b[0m\n\u001b[0;32m----> 1\u001b[0m df_coop_timeline[\u001b[38;5;124m'\u001b[39m\u001b[38;5;124myear\u001b[39m\u001b[38;5;124m'\u001b[39m] \u001b[38;5;241m=\u001b[39m \u001b[43mdf_coop_timeline\u001b[49m[\u001b[38;5;124m'\u001b[39m\u001b[38;5;124mdate_goes_live\u001b[39m\u001b[38;5;124m'\u001b[39m]\u001b[38;5;241m.\u001b[39mdt\u001b[38;5;241m.\u001b[39myear\n",
      "\u001b[0;31mNameError\u001b[0m: name 'df_coop_timeline' is not defined"
     ]
    }
   ],
   "source": [
    "df_coop_timeline['year'] = df_coop_timeline['date_goes_live'].dt.year"
   ]
  },
  {
   "cell_type": "code",
   "execution_count": 50,
   "id": "f927014b-a9a2-4c95-a942-d1226961bbe0",
   "metadata": {
    "executionInfo": {
     "elapsed": 96,
     "status": "ok",
     "timestamp": 1713304401909,
     "user": {
      "displayName": "Jeremie Fraeys",
      "userId": "16940547016236392797"
     },
     "user_tz": 240
    },
    "id": "f927014b-a9a2-4c95-a942-d1226961bbe0",
    "tags": []
   },
   "outputs": [],
   "source": [
    "word_mapping = dict(zip(df_soft_skills['soft_skill_lemm'], df_soft_skills['alt_labels_lemm']))"
   ]
  },
  {
   "cell_type": "code",
   "execution_count": 51,
   "id": "60f700ce",
   "metadata": {
    "tags": []
   },
   "outputs": [
    {
     "data": {
      "text/plain": [
       "(75519, 7)"
      ]
     },
     "execution_count": 51,
     "metadata": {},
     "output_type": "execute_result"
    }
   ],
   "source": [
    "df_coop_prg_name.shape"
   ]
  },
  {
   "cell_type": "code",
   "execution_count": 52,
   "id": "2056909a-1693-4e35-bdf7-a0ad8e313a5a",
   "metadata": {
    "executionInfo": {
     "elapsed": 199,
     "status": "ok",
     "timestamp": 1713304536458,
     "user": {
      "displayName": "Jeremie Fraeys",
      "userId": "16940547016236392797"
     },
     "user_tz": 240
    },
    "id": "2056909a-1693-4e35-bdf7-a0ad8e313a5a",
    "tags": []
   },
   "outputs": [],
   "source": [
    "text_column = 'job_description_replaced_skills'\n",
    "grp_prg_name = df_coop_prg_name.groupby('program_name')"
   ]
  },
  {
   "cell_type": "code",
   "execution_count": 53,
   "id": "8d0cbbbe-b40b-4669-8ca9-cc885b4125b2",
   "metadata": {
    "colab": {
     "base_uri": "https://localhost:8080/"
    },
    "executionInfo": {
     "elapsed": 118,
     "status": "ok",
     "timestamp": 1713304416270,
     "user": {
      "displayName": "Jeremie Fraeys",
      "userId": "16940547016236392797"
     },
     "user_tz": 240
    },
    "id": "8d0cbbbe-b40b-4669-8ca9-cc885b4125b2",
    "outputId": "c36df44e-9cf5-4d73-eed2-17f136dec7c8",
    "tags": []
   },
   "outputs": [
    {
     "data": {
      "text/plain": [
       "program_name\n",
       "Biological Engineering              8644\n",
       "Biomedical Engineering              6640\n",
       "Computer Engineering               11076\n",
       "Computer Science                    9110\n",
       "Engineering Systems & Computing    12008\n",
       "Environmental Engineering           6497\n",
       "Mechanical Engineering              6240\n",
       "Software Engineering                9016\n",
       "Water Resources Engineering         6288\n",
       "dtype: int64"
      ]
     },
     "execution_count": 53,
     "metadata": {},
     "output_type": "execute_result"
    }
   ],
   "source": [
    "grp_prg_name.size()"
   ]
  },
  {
   "cell_type": "code",
   "execution_count": 54,
   "id": "756d62f4-1bd4-4f0d-b572-c5344db69b80",
   "metadata": {
    "colab": {
     "base_uri": "https://localhost:8080/",
     "height": 49,
     "referenced_widgets": [
      "c2006f5e4eb849679b12ffa56f99f643",
      "e99e023b8e7448ba96efd0ae8c158600",
      "a71fdf16f74e427d9d4b22c73b34c1be",
      "8157d769a0ec4c9f995fe9ca632aea77",
      "f3744fd36b1a4a3faf4ef6d1e499f964",
      "3419f82862ec47d692faaba58197a4bf",
      "a712df195c1c4f7e9e2bf69cc8ed6a63",
      "3cdb46cac5c94f2c9a99a5882138c36c",
      "7422b654cb2d4e29b178b05f259eed6d",
      "0f5da2cbdc66402aa84376b9c818bb2a",
      "7c9f48d65730441390f70e2a6a093893"
     ]
    },
    "id": "756d62f4-1bd4-4f0d-b572-c5344db69b80",
    "outputId": "f54625f9-19e6-4deb-fc6e-de54d32eb96b",
    "tags": []
   },
   "outputs": [
    {
     "data": {
      "application/vnd.jupyter.widget-view+json": {
       "model_id": "297da920f1684af290547b21cf7691ab",
       "version_major": 2,
       "version_minor": 0
      },
      "text/plain": [
       "  0%|          | 0/9 [00:00<?, ?it/s]"
      ]
     },
     "metadata": {},
     "output_type": "display_data"
    },
    {
     "data": {
      "application/vnd.jupyter.widget-view+json": {
       "model_id": "dfec65fef7254ec19e385757cdbb844d",
       "version_major": 2,
       "version_minor": 0
      },
      "text/plain": [
       "  0%|          | 0/9 [00:00<?, ?it/s]"
      ]
     },
     "metadata": {},
     "output_type": "display_data"
    },
    {
     "data": {
      "application/vnd.jupyter.widget-view+json": {
       "model_id": "c2aba70dcbf441d0b73293a5e6de36cc",
       "version_major": 2,
       "version_minor": 0
      },
      "text/plain": [
       "  0%|          | 0/9 [00:00<?, ?it/s]"
      ]
     },
     "metadata": {},
     "output_type": "display_data"
    }
   ],
   "source": [
    "grouped_data_term_frequencies = grp_prg_name.progress_apply(lambda group: analysis_helper.calculate_term_frequencies(group, text_column, word_mapping.keys()))\n",
    "grouped_data_term_counts = grp_prg_name.progress_apply(lambda group: analysis_helper.calculate_term_counts(group, text_column, word_mapping.keys()))\n",
    "grouped_data_document_frequencies = grp_prg_name.progress_apply(lambda group: analysis_helper.calculate_document_frequencies(group, text_column, word_mapping.keys()))"
   ]
  },
  {
   "cell_type": "code",
   "execution_count": 55,
   "id": "fd8f1caa",
   "metadata": {
    "executionInfo": {
     "elapsed": 3,
     "status": "aborted",
     "timestamp": 1713304501565,
     "user": {
      "displayName": "Jeremie Fraeys",
      "userId": "16940547016236392797"
     },
     "user_tz": 240
    },
    "id": "fd8f1caa",
    "tags": []
   },
   "outputs": [
    {
     "name": "stderr",
     "output_type": "stream",
     "text": [
      "Calculating posting counts: 100%|█████████████████████████████████████████████████████████████████████████████████████████████████████████████████████████████████████████████████████████████████████████████████████████████████████████████████████████████████████████████████████████████████████████████████████████████████████████████████████████████████████████████████████████████████████████████████████████████████████████████████████████████| 9/9 [00:09<00:00,  1.10s/it]\n"
     ]
    }
   ],
   "source": [
    "count_skills_prg_name = analysis_helper.calculate_posting_counts_by_skills(grp_prg_name, text_column, word_mapping.keys())"
   ]
  },
  {
   "cell_type": "code",
   "execution_count": 56,
   "id": "d3153f9a",
   "metadata": {
    "id": "d3153f9a",
    "outputId": "636b0fc4-e6ae-4341-bf02-1e3c3a08ba59"
   },
   "outputs": [
    {
     "data": {
      "text/html": [
       "<div>\n",
       "<style scoped>\n",
       "    .dataframe tbody tr th:only-of-type {\n",
       "        vertical-align: middle;\n",
       "    }\n",
       "\n",
       "    .dataframe tbody tr th {\n",
       "        vertical-align: top;\n",
       "    }\n",
       "\n",
       "    .dataframe thead th {\n",
       "        text-align: right;\n",
       "    }\n",
       "</style>\n",
       "<table border=\"1\" class=\"dataframe\">\n",
       "  <thead>\n",
       "    <tr style=\"text-align: right;\">\n",
       "      <th></th>\n",
       "      <th>0</th>\n",
       "      <th>1</th>\n",
       "      <th>2</th>\n",
       "      <th>3</th>\n",
       "      <th>4</th>\n",
       "      <th>5</th>\n",
       "      <th>6</th>\n",
       "      <th>7</th>\n",
       "      <th>8</th>\n",
       "      <th>9</th>\n",
       "      <th>...</th>\n",
       "      <th>17</th>\n",
       "      <th>18</th>\n",
       "      <th>19</th>\n",
       "      <th>20</th>\n",
       "      <th>21</th>\n",
       "      <th>22</th>\n",
       "      <th>23</th>\n",
       "      <th>24</th>\n",
       "      <th>25</th>\n",
       "      <th>26</th>\n",
       "    </tr>\n",
       "  </thead>\n",
       "  <tbody>\n",
       "    <tr>\n",
       "      <th>Biological Engineering</th>\n",
       "      <td>135</td>\n",
       "      <td>306</td>\n",
       "      <td>484</td>\n",
       "      <td>596</td>\n",
       "      <td>686</td>\n",
       "      <td>795</td>\n",
       "      <td>788</td>\n",
       "      <td>794</td>\n",
       "      <td>739</td>\n",
       "      <td>719</td>\n",
       "      <td>...</td>\n",
       "      <td>63</td>\n",
       "      <td>50</td>\n",
       "      <td>54</td>\n",
       "      <td>27</td>\n",
       "      <td>13</td>\n",
       "      <td>4</td>\n",
       "      <td>1</td>\n",
       "      <td>0</td>\n",
       "      <td>0</td>\n",
       "      <td>1</td>\n",
       "    </tr>\n",
       "    <tr>\n",
       "      <th>Biomedical Engineering</th>\n",
       "      <td>97</td>\n",
       "      <td>208</td>\n",
       "      <td>343</td>\n",
       "      <td>397</td>\n",
       "      <td>520</td>\n",
       "      <td>591</td>\n",
       "      <td>584</td>\n",
       "      <td>629</td>\n",
       "      <td>612</td>\n",
       "      <td>574</td>\n",
       "      <td>...</td>\n",
       "      <td>60</td>\n",
       "      <td>41</td>\n",
       "      <td>50</td>\n",
       "      <td>16</td>\n",
       "      <td>13</td>\n",
       "      <td>7</td>\n",
       "      <td>1</td>\n",
       "      <td>1</td>\n",
       "      <td>0</td>\n",
       "      <td>0</td>\n",
       "    </tr>\n",
       "    <tr>\n",
       "      <th>Computer Engineering</th>\n",
       "      <td>82</td>\n",
       "      <td>159</td>\n",
       "      <td>311</td>\n",
       "      <td>407</td>\n",
       "      <td>636</td>\n",
       "      <td>751</td>\n",
       "      <td>801</td>\n",
       "      <td>936</td>\n",
       "      <td>998</td>\n",
       "      <td>1005</td>\n",
       "      <td>...</td>\n",
       "      <td>183</td>\n",
       "      <td>150</td>\n",
       "      <td>90</td>\n",
       "      <td>77</td>\n",
       "      <td>28</td>\n",
       "      <td>16</td>\n",
       "      <td>14</td>\n",
       "      <td>5</td>\n",
       "      <td>2</td>\n",
       "      <td>1</td>\n",
       "    </tr>\n",
       "    <tr>\n",
       "      <th>Computer Science</th>\n",
       "      <td>69</td>\n",
       "      <td>121</td>\n",
       "      <td>227</td>\n",
       "      <td>309</td>\n",
       "      <td>450</td>\n",
       "      <td>544</td>\n",
       "      <td>617</td>\n",
       "      <td>755</td>\n",
       "      <td>794</td>\n",
       "      <td>825</td>\n",
       "      <td>...</td>\n",
       "      <td>182</td>\n",
       "      <td>114</td>\n",
       "      <td>88</td>\n",
       "      <td>55</td>\n",
       "      <td>41</td>\n",
       "      <td>9</td>\n",
       "      <td>10</td>\n",
       "      <td>8</td>\n",
       "      <td>6</td>\n",
       "      <td>0</td>\n",
       "    </tr>\n",
       "    <tr>\n",
       "      <th>Engineering Systems &amp; Computing</th>\n",
       "      <td>98</td>\n",
       "      <td>182</td>\n",
       "      <td>328</td>\n",
       "      <td>464</td>\n",
       "      <td>693</td>\n",
       "      <td>789</td>\n",
       "      <td>933</td>\n",
       "      <td>1011</td>\n",
       "      <td>1057</td>\n",
       "      <td>1083</td>\n",
       "      <td>...</td>\n",
       "      <td>201</td>\n",
       "      <td>137</td>\n",
       "      <td>117</td>\n",
       "      <td>74</td>\n",
       "      <td>32</td>\n",
       "      <td>12</td>\n",
       "      <td>11</td>\n",
       "      <td>9</td>\n",
       "      <td>4</td>\n",
       "      <td>0</td>\n",
       "    </tr>\n",
       "    <tr>\n",
       "      <th>Environmental Engineering</th>\n",
       "      <td>96</td>\n",
       "      <td>228</td>\n",
       "      <td>374</td>\n",
       "      <td>491</td>\n",
       "      <td>506</td>\n",
       "      <td>619</td>\n",
       "      <td>617</td>\n",
       "      <td>565</td>\n",
       "      <td>554</td>\n",
       "      <td>496</td>\n",
       "      <td>...</td>\n",
       "      <td>73</td>\n",
       "      <td>38</td>\n",
       "      <td>36</td>\n",
       "      <td>26</td>\n",
       "      <td>13</td>\n",
       "      <td>7</td>\n",
       "      <td>1</td>\n",
       "      <td>0</td>\n",
       "      <td>0</td>\n",
       "      <td>0</td>\n",
       "    </tr>\n",
       "    <tr>\n",
       "      <th>Mechanical Engineering</th>\n",
       "      <td>84</td>\n",
       "      <td>148</td>\n",
       "      <td>266</td>\n",
       "      <td>369</td>\n",
       "      <td>456</td>\n",
       "      <td>503</td>\n",
       "      <td>574</td>\n",
       "      <td>614</td>\n",
       "      <td>601</td>\n",
       "      <td>542</td>\n",
       "      <td>...</td>\n",
       "      <td>60</td>\n",
       "      <td>53</td>\n",
       "      <td>46</td>\n",
       "      <td>27</td>\n",
       "      <td>10</td>\n",
       "      <td>7</td>\n",
       "      <td>2</td>\n",
       "      <td>1</td>\n",
       "      <td>0</td>\n",
       "      <td>1</td>\n",
       "    </tr>\n",
       "    <tr>\n",
       "      <th>Software Engineering</th>\n",
       "      <td>64</td>\n",
       "      <td>120</td>\n",
       "      <td>219</td>\n",
       "      <td>296</td>\n",
       "      <td>466</td>\n",
       "      <td>523</td>\n",
       "      <td>598</td>\n",
       "      <td>730</td>\n",
       "      <td>841</td>\n",
       "      <td>794</td>\n",
       "      <td>...</td>\n",
       "      <td>178</td>\n",
       "      <td>131</td>\n",
       "      <td>82</td>\n",
       "      <td>55</td>\n",
       "      <td>31</td>\n",
       "      <td>18</td>\n",
       "      <td>14</td>\n",
       "      <td>6</td>\n",
       "      <td>3</td>\n",
       "      <td>1</td>\n",
       "    </tr>\n",
       "    <tr>\n",
       "      <th>Water Resources Engineering</th>\n",
       "      <td>97</td>\n",
       "      <td>212</td>\n",
       "      <td>371</td>\n",
       "      <td>467</td>\n",
       "      <td>484</td>\n",
       "      <td>621</td>\n",
       "      <td>585</td>\n",
       "      <td>539</td>\n",
       "      <td>566</td>\n",
       "      <td>466</td>\n",
       "      <td>...</td>\n",
       "      <td>59</td>\n",
       "      <td>45</td>\n",
       "      <td>39</td>\n",
       "      <td>26</td>\n",
       "      <td>11</td>\n",
       "      <td>1</td>\n",
       "      <td>1</td>\n",
       "      <td>1</td>\n",
       "      <td>0</td>\n",
       "      <td>0</td>\n",
       "    </tr>\n",
       "  </tbody>\n",
       "</table>\n",
       "<p>9 rows × 27 columns</p>\n",
       "</div>"
      ],
      "text/plain": [
       "                                  0    1    2    3    4    5    6     7   \\\n",
       "Biological Engineering           135  306  484  596  686  795  788   794   \n",
       "Biomedical Engineering            97  208  343  397  520  591  584   629   \n",
       "Computer Engineering              82  159  311  407  636  751  801   936   \n",
       "Computer Science                  69  121  227  309  450  544  617   755   \n",
       "Engineering Systems & Computing   98  182  328  464  693  789  933  1011   \n",
       "Environmental Engineering         96  228  374  491  506  619  617   565   \n",
       "Mechanical Engineering            84  148  266  369  456  503  574   614   \n",
       "Software Engineering              64  120  219  296  466  523  598   730   \n",
       "Water Resources Engineering       97  212  371  467  484  621  585   539   \n",
       "\n",
       "                                   8     9   ...   17   18   19  20  21  22  \\\n",
       "Biological Engineering            739   719  ...   63   50   54  27  13   4   \n",
       "Biomedical Engineering            612   574  ...   60   41   50  16  13   7   \n",
       "Computer Engineering              998  1005  ...  183  150   90  77  28  16   \n",
       "Computer Science                  794   825  ...  182  114   88  55  41   9   \n",
       "Engineering Systems & Computing  1057  1083  ...  201  137  117  74  32  12   \n",
       "Environmental Engineering         554   496  ...   73   38   36  26  13   7   \n",
       "Mechanical Engineering            601   542  ...   60   53   46  27  10   7   \n",
       "Software Engineering              841   794  ...  178  131   82  55  31  18   \n",
       "Water Resources Engineering       566   466  ...   59   45   39  26  11   1   \n",
       "\n",
       "                                 23  24  25  26  \n",
       "Biological Engineering            1   0   0   1  \n",
       "Biomedical Engineering            1   1   0   0  \n",
       "Computer Engineering             14   5   2   1  \n",
       "Computer Science                 10   8   6   0  \n",
       "Engineering Systems & Computing  11   9   4   0  \n",
       "Environmental Engineering         1   0   0   0  \n",
       "Mechanical Engineering            2   1   0   1  \n",
       "Software Engineering             14   6   3   1  \n",
       "Water Resources Engineering       1   1   0   0  \n",
       "\n",
       "[9 rows x 27 columns]"
      ]
     },
     "execution_count": 56,
     "metadata": {},
     "output_type": "execute_result"
    }
   ],
   "source": [
    "count_skills_prg_name.sort_index(axis=1)"
   ]
  },
  {
   "cell_type": "code",
   "execution_count": 62,
   "id": "b20142d6",
   "metadata": {
    "id": "b20142d6"
   },
   "outputs": [],
   "source": [
    "count_skills_prg_name_sorted = count_skills_prg_name.sort_index(axis=1)\n",
    "count_skills_prg_name_sorted.to_csv(os.path.join(current_dir, '..', 'data/processed/count_skills_prg_name_sorted.csv'))\n"
   ]
  },
  {
   "cell_type": "code",
   "execution_count": 63,
   "id": "2b88b07e",
   "metadata": {
    "id": "2b88b07e",
    "outputId": "5f111efa-ce51-412b-be4d-67ebc6ee7fe8"
   },
   "outputs": [
    {
     "data": {
      "image/png": "[encoded data removed]",
      "text/plain": [
       "<Figure size 640x480 with 1 Axes>"
      ]
     },
     "metadata": {},
     "output_type": "display_data"
    }
   ],
   "source": [
    "analysis_helper.plot_line_graph(count_skills_prg_name.sort_index(axis=1), 'Number of Postings by Number of Foundational Skills for Each Program')"
   ]
  },
  {
   "cell_type": "code",
   "execution_count": 64,
   "id": "5dfa09a7",
   "metadata": {},
   "outputs": [
    {
     "name": "stderr",
     "output_type": "stream",
     "text": [
      "Counting term occurrences per group: 100%|████████████████████████████████████████████████████████████████████████████████████████████████████████████████████████████████████████████████████████████████████████████████████████████████████████████████████████████████████████████████████████████████████████████████████████████████████████████████████████████████████████████████████████████████████████████████████████████████████████████████████| 9/9 [00:09<00:00,  1.10s/it]\n"
     ]
    }
   ],
   "source": [
    "document_counts_tf_prg_name = analysis_helper.count_document_per_group_with_term_occurrences(grp_prg_name, text_column=text_column, terms=word_mapping.keys())"
   ]
  },
  {
   "cell_type": "code",
   "execution_count": 71,
   "id": "8ef4f178",
   "metadata": {},
   "outputs": [
    {
     "ename": "KeyError",
     "evalue": "'project_dir'",
     "output_type": "error",
     "traceback": [
      "\u001b[0;31m---------------------------------------------------------------------------\u001b[0m",
      "\u001b[0;31mKeyError\u001b[0m                                  Traceback (most recent call last)",
      "Cell \u001b[0;32mIn[71], line 1\u001b[0m\n\u001b[0;32m----> 1\u001b[0m analysis_helper\u001b[38;5;241m.\u001b[39mcreate_all_skill_tables(document_counts_tf_prg_name, os\u001b[38;5;241m.\u001b[39mpath\u001b[38;5;241m.\u001b[39mjoin(\u001b[43menv_info\u001b[49m\u001b[43m[\u001b[49m\u001b[38;5;124;43m'\u001b[39;49m\u001b[38;5;124;43mproject_dir\u001b[39;49m\u001b[38;5;124;43m'\u001b[39;49m\u001b[43m]\u001b[49m, \u001b[38;5;124m'\u001b[39m\u001b[38;5;124mreports\u001b[39m\u001b[38;5;124m'\u001b[39m, \u001b[38;5;124m'\u001b[39m\u001b[38;5;124mdocument_counts_tf_prg_name.xlsx\u001b[39m\u001b[38;5;124m'\u001b[39m))\n",
      "\u001b[0;31mKeyError\u001b[0m: 'project_dir'"
     ]
    }
   ],
   "source": [
    "analysis_helper.create_all_skill_tables(document_counts_tf_prg_name, os.path.join(env_info['project_dir'], 'reports', 'document_counts_tf_prg_name.xlsx'))"
   ]
  },
  {
   "cell_type": "code",
   "execution_count": null,
   "id": "dfe673ce",
   "metadata": {
    "tags": []
   },
   "outputs": [],
   "source": [
    "term_occurrences_per_prg_name = analysis_helper.count_document_per_group_with_total_term_occurrences(grp_prg_name, text_column, word_mapping.keys())"
   ]
  },
  {
   "cell_type": "code",
   "execution_count": null,
   "id": "bba7c053",
   "metadata": {},
   "outputs": [],
   "source": [
    "term_occurrences_per_prg_name.to_csv('reports/term_occurrences_per_prg_name.csv')\n",
    "term_occurrences_per_prg_name"
   ]
  },
  {
   "cell_type": "code",
   "execution_count": null,
   "id": "ff2de3c4-8b3b-4f16-b18a-9b9a36d3aca4",
   "metadata": {
    "id": "ff2de3c4-8b3b-4f16-b18a-9b9a36d3aca4",
    "outputId": "e997e2f6-5591-4b75-e783-7b03d465251e",
    "tags": []
   },
   "outputs": [],
   "source": [
    "print(\"Term Count:\")\n",
    "\n",
    "# Compute average along rows (axis=1)\n",
    "average_values = grouped_data_term_counts.sum(axis=0)\n",
    "\n",
    "# Sort the pivot table based on average values\n",
    "grouped_data_term_counts = grouped_data_term_counts[average_values.sort_values(ascending=False).index]\n",
    "\n",
    "grouped_data_term_counts.to_csv(\"reports/prg_name_term_counts.csv\")\n",
    "\n",
    "grouped_data_term_counts\n"
   ]
  },
  {
   "cell_type": "code",
   "execution_count": null,
   "id": "e7c41f94-1095-485f-ac41-d1c820282e37",
   "metadata": {
    "id": "e7c41f94-1095-485f-ac41-d1c820282e37",
    "outputId": "ea6b3c5b-c531-441e-a0dd-cb2e1b076e20",
    "tags": []
   },
   "outputs": [],
   "source": [
    "print(\"Term Frequencies:\")\n",
    "\n",
    "# Compute average along rows (axis=1)\n",
    "average_values = grouped_data_term_frequencies.mean(axis=0)\n",
    "\n",
    "# Sort the pivot table based on average values\n",
    "grouped_data_term_frequencies = grouped_data_term_frequencies[average_values.sort_values(ascending=False).index]\n",
    "\n",
    "grouped_data_term_frequencies.to_csv(\"reports/prg_name_term_freq.csv\")\n",
    "\n",
    "grouped_data_term_frequencies"
   ]
  },
  {
   "cell_type": "code",
   "execution_count": null,
   "id": "f5153bc2-4f5d-48c7-a0e1-1185f3dd6172",
   "metadata": {
    "id": "f5153bc2-4f5d-48c7-a0e1-1185f3dd6172",
    "outputId": "1ef06154-0d29-4053-fdd0-d48c0b585775",
    "tags": []
   },
   "outputs": [],
   "source": [
    "print(\"Document Frequencies:\")\n",
    "\n",
    "# Compute average along rows (axis=1)\n",
    "average_values = grouped_data_document_frequencies.mean(axis=0)\n",
    "\n",
    "# Sort the pivot table based on average values\n",
    "grouped_data_document_frequencies = grouped_data_document_frequencies[average_values.sort_values(ascending=False).index]\n",
    "\n",
    "grouped_data_document_frequencies.to_csv(\"reports/prg_name_doc_freq.csv\")\n",
    "\n",
    "grouped_data_document_frequencies"
   ]
  },
  {
   "cell_type": "code",
   "execution_count": null,
   "id": "64c741a9-20d6-4503-a0b2-f94e03f788b8",
   "metadata": {
    "id": "64c741a9-20d6-4503-a0b2-f94e03f788b8"
   },
   "outputs": [],
   "source": [
    "grp_yearly = df_coop_timeline.groupby('year')"
   ]
  },
  {
   "cell_type": "code",
   "execution_count": null,
   "id": "fbda754c",
   "metadata": {
    "id": "fbda754c",
    "outputId": "df2df14a-a57e-4160-cb7f-12a9bb3f1d4f"
   },
   "outputs": [],
   "source": [
    "grp_yearly.size()"
   ]
  },
  {
   "cell_type": "code",
   "execution_count": null,
   "id": "93234904-9bbc-4f23-b01a-583dafd0bdd1",
   "metadata": {
    "colab": {
     "referenced_widgets": [
      "f4d8d01a102445deb117dce3b1478f59",
      "306d432d91db4f5891962d1c943d54a5",
      "8e11623c168d4df086264764a958048b"
     ]
    },
    "id": "93234904-9bbc-4f23-b01a-583dafd0bdd1",
    "outputId": "d2de753f-ff1a-473b-82a9-50d9c3129b9b",
    "tags": []
   },
   "outputs": [],
   "source": [
    "grouped_year_term_frequencies = grp_yearly.progress_apply(lambda group: analysis_helper.calculate_term_frequencies(group, text_column, word_mapping.keys()))\n",
    "grouped_year_term_counts = grp_yearly.progress_apply(lambda group: analysis_helper.calculate_term_counts(group, text_column, word_mapping.keys()))\n",
    "grouped_year_document_frequencies = grp_yearly.progress_apply(lambda group: analysis_helper.calculate_document_frequencies(group, text_column, word_mapping.keys()))"
   ]
  },
  {
   "cell_type": "code",
   "execution_count": null,
   "id": "b732c8a5",
   "metadata": {
    "colab": {
     "referenced_widgets": [
      "af601750ffef4557963f4f02c6a2f809"
     ]
    },
    "id": "b732c8a5",
    "outputId": "034fdcd5-f73d-4d15-eaa5-c223f37dee3a"
   },
   "outputs": [],
   "source": [
    "count_skills_yearly = analysis_helper.calculate_posting_counts_by_skills(grp_yearly, text_column, word_mapping.keys())"
   ]
  },
  {
   "cell_type": "code",
   "execution_count": null,
   "id": "778d8a35",
   "metadata": {
    "id": "778d8a35"
   },
   "outputs": [],
   "source": [
    "count_skills_yearly_sorted = count_skills_yearly.sort_index(axis=1)\n",
    "count_skills_yearly_sorted.to_csv('reports/count_skills_yearly_sorted.csv')"
   ]
  },
  {
   "cell_type": "code",
   "execution_count": null,
   "id": "a2c0e2ff",
   "metadata": {
    "id": "a2c0e2ff",
    "outputId": "ba2dd6af-8222-4c4a-e766-523276c2a994"
   },
   "outputs": [],
   "source": [
    "analysis_helper.plot_line_graph(count_skills_yearly_sorted.sort_index(axis=1), title=\"Foundational skills in job postings categorized by years\")"
   ]
  },
  {
   "cell_type": "code",
   "execution_count": null,
   "id": "4af9c520",
   "metadata": {},
   "outputs": [],
   "source": [
    "document_counts_tf_yearly = analysis_helper.count_document_per_group_with_term_occurrences(grp_yearly, text_column=text_column, terms=word_mapping.keys())"
   ]
  },
  {
   "cell_type": "code",
   "execution_count": null,
   "id": "9bca991e",
   "metadata": {},
   "outputs": [],
   "source": [
    "analysis_helper.create_all_skill_tables(document_counts_tf_yearly, 'reports/document_counts_tf_yearly.xlsx')"
   ]
  },
  {
   "cell_type": "code",
   "execution_count": null,
   "id": "b0794066",
   "metadata": {},
   "outputs": [],
   "source": [
    "term_occurrences_per_year = analysis_helper.count_document_per_group_with_total_term_occurrences(grp_yearly, text_column, word_mapping.keys())"
   ]
  },
  {
   "cell_type": "code",
   "execution_count": null,
   "id": "1f4ff276",
   "metadata": {},
   "outputs": [],
   "source": [
    "term_occurrences_per_year.to_csv('reports/term_occurrences_per_yearly.csv')\n",
    "term_occurrences_per_year"
   ]
  },
  {
   "cell_type": "code",
   "execution_count": null,
   "id": "e1bd3ab9-3f19-46cc-96a7-2ab805bcdbbd",
   "metadata": {
    "id": "e1bd3ab9-3f19-46cc-96a7-2ab805bcdbbd",
    "outputId": "ada1cae3-65a7-4ac9-a100-a9e5f5562ba3",
    "tags": []
   },
   "outputs": [],
   "source": [
    "print(\"Term Count:\")\n",
    "\n",
    "# Compute average along rows (axis=1)\n",
    "average_values = grouped_year_term_counts.mean(axis=0)\n",
    "\n",
    "# Sort the pivot table based on average values\n",
    "grouped_year_term_counts = grouped_year_term_counts[average_values.sort_values(ascending=False).index]\n",
    "\n",
    "grouped_year_term_counts.to_csv(\"reports/year_term_counts.csv\")\n",
    "\n",
    "grouped_year_term_counts"
   ]
  },
  {
   "cell_type": "code",
   "execution_count": null,
   "id": "8e6a351a-9874-4a3a-b45b-2a2336522bdf",
   "metadata": {
    "id": "8e6a351a-9874-4a3a-b45b-2a2336522bdf",
    "outputId": "773426b2-a504-44d3-d168-41d155b1ba6f",
    "tags": []
   },
   "outputs": [],
   "source": [
    "print(\"Term Frequencies:\")\n",
    "\n",
    "# Compute average along rows (axis=1)\n",
    "average_values = grouped_year_term_frequencies.mean(axis=0)\n",
    "\n",
    "# Sort the pivot table based on average values\n",
    "grouped_year_term_frequencies = grouped_year_term_frequencies[average_values.sort_values(ascending=False).index]\n",
    "\n",
    "grouped_year_term_frequencies.to_csv(\"reports/year_term_freq.csv\")\n",
    "\n",
    "grouped_year_term_frequencies\n"
   ]
  },
  {
   "cell_type": "code",
   "execution_count": null,
   "id": "f5592b95-c83c-413f-b030-957f23d1f99a",
   "metadata": {
    "id": "f5592b95-c83c-413f-b030-957f23d1f99a",
    "outputId": "c4db9f0e-f14b-4118-93fa-a346683a3779",
    "tags": []
   },
   "outputs": [],
   "source": [
    "print(\"Document Frequencies:\")\n",
    "# Compute average along rows (axis=1)\n",
    "average_values = grouped_year_document_frequencies.mean(axis=0)\n",
    "\n",
    "# Sort the pivot table based on average values\n",
    "grouped_year_document_frequencies = grouped_year_document_frequencies[average_values.sort_values(ascending=False).index]\n",
    "\n",
    "grouped_year_document_frequencies.to_csv(\"reports/year_doc_freq.csv\")\n",
    "\n",
    "grouped_year_document_frequencies\n"
   ]
  },
  {
   "cell_type": "code",
   "execution_count": null,
   "id": "c8b73272",
   "metadata": {},
   "outputs": [],
   "source": []
  }
 ],
 "metadata": {
  "colab": {
   "provenance": []
  },
  "kernelspec": {
   "display_name": "Python (soft-skills-env)",
   "language": "python",
   "name": "soft-skills-env"
  },
  "language_info": {
   "codemirror_mode": {
    "name": "ipython",
    "version": 3
   },
   "file_extension": ".py",
   "mimetype": "text/x-python",
   "name": "python",
   "nbconvert_exporter": "python",
   "pygments_lexer": "ipython3",
   "version": "3.10.16"
  },
  "toc-autonumbering": false,
  "toc-showcode": false,
  "toc-showmarkdowntxt": true,
  "widgets": {
   "application/vnd.jupyter.widget-state+json": {
    "0f5da2cbdc66402aa84376b9c818bb2a": {
     "model_module": "@jupyter-widgets/base",
     "model_module_version": "1.2.0",
     "model_name": "LayoutModel",
     "state": {
      "_model_module": "@jupyter-widgets/base",
      "_model_module_version": "1.2.0",
      "_model_name": "LayoutModel",
      "_view_count": null,
      "_view_module": "@jupyter-widgets/base",
      "_view_module_version": "1.2.0",
      "_view_name": "LayoutView",
      "align_content": null,
      "align_items": null,
      "align_self": null,
      "border": null,
      "bottom": null,
      "display": null,
      "flex": null,
      "flex_flow": null,
      "grid_area": null,
      "grid_auto_columns": null,
      "grid_auto_flow": null,
      "grid_auto_rows": null,
      "grid_column": null,
      "grid_gap": null,
      "grid_row": null,
      "grid_template_areas": null,
      "grid_template_columns": null,
      "grid_template_rows": null,
      "height": null,
      "justify_content": null,
      "justify_items": null,
      "left": null,
      "margin": null,
      "max_height": null,
      "max_width": null,
      "min_height": null,
      "min_width": null,
      "object_fit": null,
      "object_position": null,
      "order": null,
      "overflow": null,
      "overflow_x": null,
      "overflow_y": null,
      "padding": null,
      "right": null,
      "top": null,
      "visibility": null,
      "width": null
     }
    },
    "3419f82862ec47d692faaba58197a4bf": {
     "model_module": "@jupyter-widgets/base",
     "model_module_version": "1.2.0",
     "model_name": "LayoutModel",
     "state": {
      "_model_module": "@jupyter-widgets/base",
      "_model_module_version": "1.2.0",
      "_model_name": "LayoutModel",
      "_view_count": null,
      "_view_module": "@jupyter-widgets/base",
      "_view_module_version": "1.2.0",
      "_view_name": "LayoutView",
      "align_content": null,
      "align_items": null,
      "align_self": null,
      "border": null,
      "bottom": null,
      "display": null,
      "flex": null,
      "flex_flow": null,
      "grid_area": null,
      "grid_auto_columns": null,
      "grid_auto_flow": null,
      "grid_auto_rows": null,
      "grid_column": null,
      "grid_gap": null,
      "grid_row": null,
      "grid_template_areas": null,
      "grid_template_columns": null,
      "grid_template_rows": null,
      "height": null,
      "justify_content": null,
      "justify_items": null,
      "left": null,
      "margin": null,
      "max_height": null,
      "max_width": null,
      "min_height": null,
      "min_width": null,
      "object_fit": null,
      "object_position": null,
      "order": null,
      "overflow": null,
      "overflow_x": null,
      "overflow_y": null,
      "padding": null,
      "right": null,
      "top": null,
      "visibility": null,
      "width": null
     }
    },
    "3cdb46cac5c94f2c9a99a5882138c36c": {
     "model_module": "@jupyter-widgets/base",
     "model_module_version": "1.2.0",
     "model_name": "LayoutModel",
     "state": {
      "_model_module": "@jupyter-widgets/base",
      "_model_module_version": "1.2.0",
      "_model_name": "LayoutModel",
      "_view_count": null,
      "_view_module": "@jupyter-widgets/base",
      "_view_module_version": "1.2.0",
      "_view_name": "LayoutView",
      "align_content": null,
      "align_items": null,
      "align_self": null,
      "border": null,
      "bottom": null,
      "display": null,
      "flex": null,
      "flex_flow": null,
      "grid_area": null,
      "grid_auto_columns": null,
      "grid_auto_flow": null,
      "grid_auto_rows": null,
      "grid_column": null,
      "grid_gap": null,
      "grid_row": null,
      "grid_template_areas": null,
      "grid_template_columns": null,
      "grid_template_rows": null,
      "height": null,
      "justify_content": null,
      "justify_items": null,
      "left": null,
      "margin": null,
      "max_height": null,
      "max_width": null,
      "min_height": null,
      "min_width": null,
      "object_fit": null,
      "object_position": null,
      "order": null,
      "overflow": null,
      "overflow_x": null,
      "overflow_y": null,
      "padding": null,
      "right": null,
      "top": null,
      "visibility": null,
      "width": null
     }
    },
    "7422b654cb2d4e29b178b05f259eed6d": {
     "model_module": "@jupyter-widgets/controls",
     "model_module_version": "1.5.0",
     "model_name": "ProgressStyleModel",
     "state": {
      "_model_module": "@jupyter-widgets/controls",
      "_model_module_version": "1.5.0",
      "_model_name": "ProgressStyleModel",
      "_view_count": null,
      "_view_module": "@jupyter-widgets/base",
      "_view_module_version": "1.2.0",
      "_view_name": "StyleView",
      "bar_color": null,
      "description_width": ""
     }
    },
    "7c9f48d65730441390f70e2a6a093893": {
     "model_module": "@jupyter-widgets/controls",
     "model_module_version": "1.5.0",
     "model_name": "DescriptionStyleModel",
     "state": {
      "_model_module": "@jupyter-widgets/controls",
      "_model_module_version": "1.5.0",
      "_model_name": "DescriptionStyleModel",
      "_view_count": null,
      "_view_module": "@jupyter-widgets/base",
      "_view_module_version": "1.2.0",
      "_view_name": "StyleView",
      "description_width": ""
     }
    },
    "8157d769a0ec4c9f995fe9ca632aea77": {
     "model_module": "@jupyter-widgets/controls",
     "model_module_version": "1.5.0",
     "model_name": "HTMLModel",
     "state": {
      "_dom_classes": [],
      "_model_module": "@jupyter-widgets/controls",
      "_model_module_version": "1.5.0",
      "_model_name": "HTMLModel",
      "_view_count": null,
      "_view_module": "@jupyter-widgets/controls",
      "_view_module_version": "1.5.0",
      "_view_name": "HTMLView",
      "description": "",
      "description_tooltip": null,
      "layout": "IPY_MODEL_0f5da2cbdc66402aa84376b9c818bb2a",
      "placeholder": "​",
      "style": "IPY_MODEL_7c9f48d65730441390f70e2a6a093893",
      "value": " 2/9 [00:08&lt;00:30,  4.41s/it]"
     }
    },
    "a712df195c1c4f7e9e2bf69cc8ed6a63": {
     "model_module": "@jupyter-widgets/controls",
     "model_module_version": "1.5.0",
     "model_name": "DescriptionStyleModel",
     "state": {
      "_model_module": "@jupyter-widgets/controls",
      "_model_module_version": "1.5.0",
      "_model_name": "DescriptionStyleModel",
      "_view_count": null,
      "_view_module": "@jupyter-widgets/base",
      "_view_module_version": "1.2.0",
      "_view_name": "StyleView",
      "description_width": ""
     }
    },
    "a71fdf16f74e427d9d4b22c73b34c1be": {
     "model_module": "@jupyter-widgets/controls",
     "model_module_version": "1.5.0",
     "model_name": "FloatProgressModel",
     "state": {
      "_dom_classes": [],
      "_model_module": "@jupyter-widgets/controls",
      "_model_module_version": "1.5.0",
      "_model_name": "FloatProgressModel",
      "_view_count": null,
      "_view_module": "@jupyter-widgets/controls",
      "_view_module_version": "1.5.0",
      "_view_name": "ProgressView",
      "bar_style": "",
      "description": "",
      "description_tooltip": null,
      "layout": "IPY_MODEL_3cdb46cac5c94f2c9a99a5882138c36c",
      "max": 9,
      "min": 0,
      "orientation": "horizontal",
      "style": "IPY_MODEL_7422b654cb2d4e29b178b05f259eed6d",
      "value": 2
     }
    },
    "c2006f5e4eb849679b12ffa56f99f643": {
     "model_module": "@jupyter-widgets/controls",
     "model_module_version": "1.5.0",
     "model_name": "HBoxModel",
     "state": {
      "_dom_classes": [],
      "_model_module": "@jupyter-widgets/controls",
      "_model_module_version": "1.5.0",
      "_model_name": "HBoxModel",
      "_view_count": null,
      "_view_module": "@jupyter-widgets/controls",
      "_view_module_version": "1.5.0",
      "_view_name": "HBoxView",
      "box_style": "",
      "children": [
       "IPY_MODEL_e99e023b8e7448ba96efd0ae8c158600",
       "IPY_MODEL_a71fdf16f74e427d9d4b22c73b34c1be",
       "IPY_MODEL_8157d769a0ec4c9f995fe9ca632aea77"
      ],
      "layout": "IPY_MODEL_f3744fd36b1a4a3faf4ef6d1e499f964"
     }
    },
    "e99e023b8e7448ba96efd0ae8c158600": {
     "model_module": "@jupyter-widgets/controls",
     "model_module_version": "1.5.0",
     "model_name": "HTMLModel",
     "state": {
      "_dom_classes": [],
      "_model_module": "@jupyter-widgets/controls",
      "_model_module_version": "1.5.0",
      "_model_name": "HTMLModel",
      "_view_count": null,
      "_view_module": "@jupyter-widgets/controls",
      "_view_module_version": "1.5.0",
      "_view_name": "HTMLView",
      "description": "",
      "description_tooltip": null,
      "layout": "IPY_MODEL_3419f82862ec47d692faaba58197a4bf",
      "placeholder": "​",
      "style": "IPY_MODEL_a712df195c1c4f7e9e2bf69cc8ed6a63",
      "value": " 22%"
     }
    },
    "f3744fd36b1a4a3faf4ef6d1e499f964": {
     "model_module": "@jupyter-widgets/base",
     "model_module_version": "1.2.0",
     "model_name": "LayoutModel",
     "state": {
      "_model_module": "@jupyter-widgets/base",
      "_model_module_version": "1.2.0",
      "_model_name": "LayoutModel",
      "_view_count": null,
      "_view_module": "@jupyter-widgets/base",
      "_view_module_version": "1.2.0",
      "_view_name": "LayoutView",
      "align_content": null,
      "align_items": null,
      "align_self": null,
      "border": null,
      "bottom": null,
      "display": null,
      "flex": null,
      "flex_flow": null,
      "grid_area": null,
      "grid_auto_columns": null,
      "grid_auto_flow": null,
      "grid_auto_rows": null,
      "grid_column": null,
      "grid_gap": null,
      "grid_row": null,
      "grid_template_areas": null,
      "grid_template_columns": null,
      "grid_template_rows": null,
      "height": null,
      "justify_content": null,
      "justify_items": null,
      "left": null,
      "margin": null,
      "max_height": null,
      "max_width": null,
      "min_height": null,
      "min_width": null,
      "object_fit": null,
      "object_position": null,
      "order": null,
      "overflow": null,
      "overflow_x": null,
      "overflow_y": null,
      "padding": null,
      "right": null,
      "top": null,
      "visibility": null,
      "width": null
     }
    }
   }
  }
 },
 "nbformat": 4,
 "nbformat_minor": 5
}
